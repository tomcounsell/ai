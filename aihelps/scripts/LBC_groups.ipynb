{
 "cells": [
  {
   "cell_type": "markdown",
   "metadata": {
    "collapsed": true,
    "pycharm": {
     "name": "#%% md\n"
    }
   },
   "source": [
    "## LBC group management\n"
   ]
  },
  {
   "cell_type": "code",
   "execution_count": 5,
   "outputs": [],
   "source": [
    "import pandas as pd\n",
    "import numpy as np\n",
    "from collections import namedtuple\n",
    "\n",
    "requirement = namedtuple('requirement', 'target min max')\n",
    "sc_group_size = requirement(8,6,9)\n",
    "sc_singles_count = requirement(2,0,4)\n",
    "sc_couple_count = requirement(3,3,4)\n",
    "lb_group_size = requirement(6,5,7)\n",
    "lb_singles_count = requirement(2,0,3)\n",
    "lb_couple_count = requirement(3,2,3)"
   ],
   "metadata": {
    "collapsed": false,
    "pycharm": {
     "name": "#%%\n"
    }
   }
  },
  {
   "cell_type": "code",
   "execution_count": 8,
   "outputs": [
    {
     "data": {
      "text/plain": "  lb0  sc0  lb1  sc1 lb2  sc2  lb3  sc3  lb4  sc4  ...  sc9 lb10 sc10 lb11  \\\n0   D  NaN    F  NaN   G  NaN  NaN    B    E  NaN  ...  NaN  NaN  NaN  NaN   \n1   A    E    F    C   I    B    F    C    F    A  ...    A  NaN    A  NaN   \n2   E  NaN  NaN  NaN   G  NaN    C  NaN    D  NaN  ...    B  NaN    A  NaN   \n3   B    D  NaN  NaN   I    C    G  NaN  NaN  NaN  ...  NaN  NaN  NaN  NaN   \n4   E    B  NaN  NaN   A  NaN    E  NaN    A  NaN  ...  NaN  NaN  NaN  NaN   \n\n  sc11 lb12 sc12 lb13 sc13 lb14  \n0  NaN  NaN  NaN  NaN  NaN  NaN  \n1  NaN  NaN    C  NaN    D  NaN  \n2    C  NaN    C  NaN    D  NaN  \n3  NaN  NaN  NaN  NaN  NaN  NaN  \n4  NaN  NaN  NaN  NaN  NaN  NaN  \n\n[5 rows x 29 columns]",
      "text/html": "<div>\n<style scoped>\n    .dataframe tbody tr th:only-of-type {\n        vertical-align: middle;\n    }\n\n    .dataframe tbody tr th {\n        vertical-align: top;\n    }\n\n    .dataframe thead th {\n        text-align: right;\n    }\n</style>\n<table border=\"1\" class=\"dataframe\">\n  <thead>\n    <tr style=\"text-align: right;\">\n      <th></th>\n      <th>lb0</th>\n      <th>sc0</th>\n      <th>lb1</th>\n      <th>sc1</th>\n      <th>lb2</th>\n      <th>sc2</th>\n      <th>lb3</th>\n      <th>sc3</th>\n      <th>lb4</th>\n      <th>sc4</th>\n      <th>...</th>\n      <th>sc9</th>\n      <th>lb10</th>\n      <th>sc10</th>\n      <th>lb11</th>\n      <th>sc11</th>\n      <th>lb12</th>\n      <th>sc12</th>\n      <th>lb13</th>\n      <th>sc13</th>\n      <th>lb14</th>\n    </tr>\n  </thead>\n  <tbody>\n    <tr>\n      <th>0</th>\n      <td>D</td>\n      <td>NaN</td>\n      <td>F</td>\n      <td>NaN</td>\n      <td>G</td>\n      <td>NaN</td>\n      <td>NaN</td>\n      <td>B</td>\n      <td>E</td>\n      <td>NaN</td>\n      <td>...</td>\n      <td>NaN</td>\n      <td>NaN</td>\n      <td>NaN</td>\n      <td>NaN</td>\n      <td>NaN</td>\n      <td>NaN</td>\n      <td>NaN</td>\n      <td>NaN</td>\n      <td>NaN</td>\n      <td>NaN</td>\n    </tr>\n    <tr>\n      <th>1</th>\n      <td>A</td>\n      <td>E</td>\n      <td>F</td>\n      <td>C</td>\n      <td>I</td>\n      <td>B</td>\n      <td>F</td>\n      <td>C</td>\n      <td>F</td>\n      <td>A</td>\n      <td>...</td>\n      <td>A</td>\n      <td>NaN</td>\n      <td>A</td>\n      <td>NaN</td>\n      <td>NaN</td>\n      <td>NaN</td>\n      <td>C</td>\n      <td>NaN</td>\n      <td>D</td>\n      <td>NaN</td>\n    </tr>\n    <tr>\n      <th>2</th>\n      <td>E</td>\n      <td>NaN</td>\n      <td>NaN</td>\n      <td>NaN</td>\n      <td>G</td>\n      <td>NaN</td>\n      <td>C</td>\n      <td>NaN</td>\n      <td>D</td>\n      <td>NaN</td>\n      <td>...</td>\n      <td>B</td>\n      <td>NaN</td>\n      <td>A</td>\n      <td>NaN</td>\n      <td>C</td>\n      <td>NaN</td>\n      <td>C</td>\n      <td>NaN</td>\n      <td>D</td>\n      <td>NaN</td>\n    </tr>\n    <tr>\n      <th>3</th>\n      <td>B</td>\n      <td>D</td>\n      <td>NaN</td>\n      <td>NaN</td>\n      <td>I</td>\n      <td>C</td>\n      <td>G</td>\n      <td>NaN</td>\n      <td>NaN</td>\n      <td>NaN</td>\n      <td>...</td>\n      <td>NaN</td>\n      <td>NaN</td>\n      <td>NaN</td>\n      <td>NaN</td>\n      <td>NaN</td>\n      <td>NaN</td>\n      <td>NaN</td>\n      <td>NaN</td>\n      <td>NaN</td>\n      <td>NaN</td>\n    </tr>\n    <tr>\n      <th>4</th>\n      <td>E</td>\n      <td>B</td>\n      <td>NaN</td>\n      <td>NaN</td>\n      <td>A</td>\n      <td>NaN</td>\n      <td>E</td>\n      <td>NaN</td>\n      <td>A</td>\n      <td>NaN</td>\n      <td>...</td>\n      <td>NaN</td>\n      <td>NaN</td>\n      <td>NaN</td>\n      <td>NaN</td>\n      <td>NaN</td>\n      <td>NaN</td>\n      <td>NaN</td>\n      <td>NaN</td>\n      <td>NaN</td>\n      <td>NaN</td>\n    </tr>\n  </tbody>\n</table>\n<p>5 rows × 29 columns</p>\n</div>"
     },
     "metadata": {},
     "output_type": "display_data"
    }
   ],
   "source": [
    "group_history = pd.read_csv(\"LBC_group_history.csv\")\n",
    "group_history.columns = list(f'{\"sc\" if i%2 else \"lb\"}{i//2}'\n",
    "                             for i in range(len(group_history.columns))\n",
    "                             )\n",
    "display(group_history.head(5))\n"
   ],
   "metadata": {
    "collapsed": false,
    "pycharm": {
     "name": "#%%\n"
    }
   }
  },
  {
   "cell_type": "code",
   "execution_count": 56,
   "outputs": [
    {
     "data": {
      "text/plain": "    how many groups smallest group size largest group size\nlb0              19                   2                  5\nsc0              23                   3                  5\nlb1              20                   1                  4\nsc1              16                   4                  4\nlb2              26                   2                  4",
      "text/html": "<div>\n<style scoped>\n    .dataframe tbody tr th:only-of-type {\n        vertical-align: middle;\n    }\n\n    .dataframe tbody tr th {\n        vertical-align: top;\n    }\n\n    .dataframe thead th {\n        text-align: right;\n    }\n</style>\n<table border=\"1\" class=\"dataframe\">\n  <thead>\n    <tr style=\"text-align: right;\">\n      <th></th>\n      <th>how many groups</th>\n      <th>smallest group size</th>\n      <th>largest group size</th>\n    </tr>\n  </thead>\n  <tbody>\n    <tr>\n      <th>lb0</th>\n      <td>19</td>\n      <td>2</td>\n      <td>5</td>\n    </tr>\n    <tr>\n      <th>sc0</th>\n      <td>23</td>\n      <td>3</td>\n      <td>5</td>\n    </tr>\n    <tr>\n      <th>lb1</th>\n      <td>20</td>\n      <td>1</td>\n      <td>4</td>\n    </tr>\n    <tr>\n      <th>sc1</th>\n      <td>16</td>\n      <td>4</td>\n      <td>4</td>\n    </tr>\n    <tr>\n      <th>lb2</th>\n      <td>26</td>\n      <td>2</td>\n      <td>4</td>\n    </tr>\n  </tbody>\n</table>\n</div>"
     },
     "metadata": {},
     "output_type": "display_data"
    }
   ],
   "source": [
    "group_features = pd.DataFrame(columns=['how many groups', 'smallest group size', 'largest group size',])\n",
    "\n",
    "for column in group_history.columns:\n",
    "    # print(group_history[column])\n",
    "\n",
    "    group_features.loc[column] = [\n",
    "        group_history[column].count(),\n",
    "        group_history[column].value_counts().min(),\n",
    "        group_history[column].value_counts().max(),\n",
    "    ]\n",
    "\n",
    "display(group_features.head(5))"
   ],
   "metadata": {
    "collapsed": false,
    "pycharm": {
     "name": "#%%\n"
    }
   }
  },
  {
   "cell_type": "code",
   "execution_count": null,
   "outputs": [],
   "source": [],
   "metadata": {
    "collapsed": false,
    "pycharm": {
     "name": "#%%\n"
    }
   }
  }
 ],
 "metadata": {
  "kernelspec": {
   "display_name": "Python 3",
   "language": "python",
   "name": "python3"
  },
  "language_info": {
   "codemirror_mode": {
    "name": "ipython",
    "version": 2
   },
   "file_extension": ".py",
   "mimetype": "text/x-python",
   "name": "python",
   "nbconvert_exporter": "python",
   "pygments_lexer": "ipython2",
   "version": "2.7.6"
  }
 },
 "nbformat": 4,
 "nbformat_minor": 0
}