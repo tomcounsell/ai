{
 "cells": [
  {
   "cell_type": "markdown",
   "metadata": {
    "collapsed": true,
    "pycharm": {
     "name": "#%% md\n"
    }
   },
   "source": [
    "## LBC group management\n"
   ]
  },
  {
   "cell_type": "code",
   "execution_count": 189,
   "outputs": [],
   "source": [
    "import collections\n",
    "from dataclasses import dataclass\n",
    "import pandas as pd\n",
    "import numpy as np\n",
    "from collections import namedtuple\n",
    "group_chars = [c for c in 'ABCDEFGHIJKLMNOP']\n",
    "requirement = namedtuple('requirement', 'target min max')\n",
    "sc_group_size = requirement(6,5,6)\n",
    "sc_singles_count = requirement(2,0,4)\n",
    "sc_couple_count = requirement(3,3,4)\n",
    "lb_group_size = requirement(6,5,7)\n",
    "lb_singles_count = requirement(2,0,3)\n",
    "lb_couple_count = requirement(2,2,3)\n"
   ],
   "metadata": {
    "collapsed": false,
    "pycharm": {
     "name": "#%%\n"
    }
   }
  },
  {
   "cell_type": "markdown",
   "source": [
    "### import historical groupings\n",
    "- columns are groupings, of either type 'lb' or 'sc'\n",
    "- rows are members\n",
    "- character denotes membership in a group. same letter same group. null for no involvement"
   ],
   "metadata": {
    "collapsed": false
   }
  },
  {
   "cell_type": "code",
   "execution_count": 190,
   "outputs": [
    {
     "data": {
      "text/plain": "   index  size  lb0  sc0  lb1  sc1  lb2  sc2  lb3  sc3  ... lb11 sc11 lb12  \\\n0      0     1  NaN  NaN  NaN  NaN  NaN  NaN  NaN  NaN  ...  NaN  NaN  NaN   \n1      1     2  NaN  NaN  NaN  NaN  NaN  NaN  NaN  NaN  ...  NaN  NaN  NaN   \n2      2     1    D  NaN  NaN  NaN  NaN  NaN  NaN  NaN  ...  NaN  NaN  NaN   \n3      3     2    D  NaN    F  NaN    G  NaN  NaN    B  ...  NaN  NaN  NaN   \n4      4     1    A    E    F    C    I    B    F    C  ...  NaN  NaN  NaN   \n\n  sc12 lb13 sc13 lb14 elb_block llb_block sc_block  \n0  NaN  NaN  NaN  NaN         X         X        X  \n1  NaN  NaN    A  NaN         X         X        X  \n2  NaN  NaN  NaN  NaN         X         X        X  \n3  NaN  NaN  NaN  NaN         X         X        X  \n4    C  NaN    D  NaN         X       NaN        X  \n\n[5 rows x 34 columns]",
      "text/html": "<div>\n<style scoped>\n    .dataframe tbody tr th:only-of-type {\n        vertical-align: middle;\n    }\n\n    .dataframe tbody tr th {\n        vertical-align: top;\n    }\n\n    .dataframe thead th {\n        text-align: right;\n    }\n</style>\n<table border=\"1\" class=\"dataframe\">\n  <thead>\n    <tr style=\"text-align: right;\">\n      <th></th>\n      <th>index</th>\n      <th>size</th>\n      <th>lb0</th>\n      <th>sc0</th>\n      <th>lb1</th>\n      <th>sc1</th>\n      <th>lb2</th>\n      <th>sc2</th>\n      <th>lb3</th>\n      <th>sc3</th>\n      <th>...</th>\n      <th>lb11</th>\n      <th>sc11</th>\n      <th>lb12</th>\n      <th>sc12</th>\n      <th>lb13</th>\n      <th>sc13</th>\n      <th>lb14</th>\n      <th>elb_block</th>\n      <th>llb_block</th>\n      <th>sc_block</th>\n    </tr>\n  </thead>\n  <tbody>\n    <tr>\n      <th>0</th>\n      <td>0</td>\n      <td>1</td>\n      <td>NaN</td>\n      <td>NaN</td>\n      <td>NaN</td>\n      <td>NaN</td>\n      <td>NaN</td>\n      <td>NaN</td>\n      <td>NaN</td>\n      <td>NaN</td>\n      <td>...</td>\n      <td>NaN</td>\n      <td>NaN</td>\n      <td>NaN</td>\n      <td>NaN</td>\n      <td>NaN</td>\n      <td>NaN</td>\n      <td>NaN</td>\n      <td>X</td>\n      <td>X</td>\n      <td>X</td>\n    </tr>\n    <tr>\n      <th>1</th>\n      <td>1</td>\n      <td>2</td>\n      <td>NaN</td>\n      <td>NaN</td>\n      <td>NaN</td>\n      <td>NaN</td>\n      <td>NaN</td>\n      <td>NaN</td>\n      <td>NaN</td>\n      <td>NaN</td>\n      <td>...</td>\n      <td>NaN</td>\n      <td>NaN</td>\n      <td>NaN</td>\n      <td>NaN</td>\n      <td>NaN</td>\n      <td>A</td>\n      <td>NaN</td>\n      <td>X</td>\n      <td>X</td>\n      <td>X</td>\n    </tr>\n    <tr>\n      <th>2</th>\n      <td>2</td>\n      <td>1</td>\n      <td>D</td>\n      <td>NaN</td>\n      <td>NaN</td>\n      <td>NaN</td>\n      <td>NaN</td>\n      <td>NaN</td>\n      <td>NaN</td>\n      <td>NaN</td>\n      <td>...</td>\n      <td>NaN</td>\n      <td>NaN</td>\n      <td>NaN</td>\n      <td>NaN</td>\n      <td>NaN</td>\n      <td>NaN</td>\n      <td>NaN</td>\n      <td>X</td>\n      <td>X</td>\n      <td>X</td>\n    </tr>\n    <tr>\n      <th>3</th>\n      <td>3</td>\n      <td>2</td>\n      <td>D</td>\n      <td>NaN</td>\n      <td>F</td>\n      <td>NaN</td>\n      <td>G</td>\n      <td>NaN</td>\n      <td>NaN</td>\n      <td>B</td>\n      <td>...</td>\n      <td>NaN</td>\n      <td>NaN</td>\n      <td>NaN</td>\n      <td>NaN</td>\n      <td>NaN</td>\n      <td>NaN</td>\n      <td>NaN</td>\n      <td>X</td>\n      <td>X</td>\n      <td>X</td>\n    </tr>\n    <tr>\n      <th>4</th>\n      <td>4</td>\n      <td>1</td>\n      <td>A</td>\n      <td>E</td>\n      <td>F</td>\n      <td>C</td>\n      <td>I</td>\n      <td>B</td>\n      <td>F</td>\n      <td>C</td>\n      <td>...</td>\n      <td>NaN</td>\n      <td>NaN</td>\n      <td>NaN</td>\n      <td>C</td>\n      <td>NaN</td>\n      <td>D</td>\n      <td>NaN</td>\n      <td>X</td>\n      <td>NaN</td>\n      <td>X</td>\n    </tr>\n  </tbody>\n</table>\n<p>5 rows × 34 columns</p>\n</div>"
     },
     "metadata": {},
     "output_type": "display_data"
    }
   ],
   "source": [
    "column_names = ['index', 'size'] + list(f'{\"sc\" if i%2 else \"lb\"}{i//2}'\n",
    "                             for i in range(29)\n",
    "                             ) + ['elb_block', 'llb_block', 'sc_block']\n",
    "group_history = pd.read_csv(\"LBC_group_history.csv\", names=column_names, header=None)\n",
    "\n",
    "display(group_history.head(5))"
   ],
   "metadata": {
    "collapsed": false,
    "pycharm": {
     "name": "#%%\n"
    }
   }
  },
  {
   "cell_type": "markdown",
   "source": [
    "### measure group sizes\n",
    "- get total group sizes using weights from size column\n"
   ],
   "metadata": {
    "collapsed": false
   }
  },
  {
   "cell_type": "code",
   "execution_count": 191,
   "outputs": [
    {
     "data": {
      "text/plain": "         A    B     C    D    E    F    G    H    I    J    K   L   M   N   O  \\\nlb12   NaN  NaN   NaN  NaN  NaN  NaN  NaN  NaN  NaN  NaN  NaN NaN NaN NaN NaN   \nsc12   8.0  8.0   6.0  NaN  NaN  NaN  NaN  NaN  NaN  NaN  NaN NaN NaN NaN NaN   \nlb13   4.0  6.0   7.0  NaN  NaN  NaN  NaN  NaN  NaN  NaN  NaN NaN NaN NaN NaN   \nsc13  10.0  8.0  13.0  8.0  8.0  NaN  NaN  NaN  NaN  NaN  NaN NaN NaN NaN NaN   \nlb14   9.0  6.0   4.0  6.0  6.0  6.0  6.0  6.0  8.0  6.0  6.0 NaN NaN NaN NaN   \n\n       P  \nlb12 NaN  \nsc12 NaN  \nlb13 NaN  \nsc13 NaN  \nlb14 NaN  ",
      "text/html": "<div>\n<style scoped>\n    .dataframe tbody tr th:only-of-type {\n        vertical-align: middle;\n    }\n\n    .dataframe tbody tr th {\n        vertical-align: top;\n    }\n\n    .dataframe thead th {\n        text-align: right;\n    }\n</style>\n<table border=\"1\" class=\"dataframe\">\n  <thead>\n    <tr style=\"text-align: right;\">\n      <th></th>\n      <th>A</th>\n      <th>B</th>\n      <th>C</th>\n      <th>D</th>\n      <th>E</th>\n      <th>F</th>\n      <th>G</th>\n      <th>H</th>\n      <th>I</th>\n      <th>J</th>\n      <th>K</th>\n      <th>L</th>\n      <th>M</th>\n      <th>N</th>\n      <th>O</th>\n      <th>P</th>\n    </tr>\n  </thead>\n  <tbody>\n    <tr>\n      <th>lb12</th>\n      <td>NaN</td>\n      <td>NaN</td>\n      <td>NaN</td>\n      <td>NaN</td>\n      <td>NaN</td>\n      <td>NaN</td>\n      <td>NaN</td>\n      <td>NaN</td>\n      <td>NaN</td>\n      <td>NaN</td>\n      <td>NaN</td>\n      <td>NaN</td>\n      <td>NaN</td>\n      <td>NaN</td>\n      <td>NaN</td>\n      <td>NaN</td>\n    </tr>\n    <tr>\n      <th>sc12</th>\n      <td>8.0</td>\n      <td>8.0</td>\n      <td>6.0</td>\n      <td>NaN</td>\n      <td>NaN</td>\n      <td>NaN</td>\n      <td>NaN</td>\n      <td>NaN</td>\n      <td>NaN</td>\n      <td>NaN</td>\n      <td>NaN</td>\n      <td>NaN</td>\n      <td>NaN</td>\n      <td>NaN</td>\n      <td>NaN</td>\n      <td>NaN</td>\n    </tr>\n    <tr>\n      <th>lb13</th>\n      <td>4.0</td>\n      <td>6.0</td>\n      <td>7.0</td>\n      <td>NaN</td>\n      <td>NaN</td>\n      <td>NaN</td>\n      <td>NaN</td>\n      <td>NaN</td>\n      <td>NaN</td>\n      <td>NaN</td>\n      <td>NaN</td>\n      <td>NaN</td>\n      <td>NaN</td>\n      <td>NaN</td>\n      <td>NaN</td>\n      <td>NaN</td>\n    </tr>\n    <tr>\n      <th>sc13</th>\n      <td>10.0</td>\n      <td>8.0</td>\n      <td>13.0</td>\n      <td>8.0</td>\n      <td>8.0</td>\n      <td>NaN</td>\n      <td>NaN</td>\n      <td>NaN</td>\n      <td>NaN</td>\n      <td>NaN</td>\n      <td>NaN</td>\n      <td>NaN</td>\n      <td>NaN</td>\n      <td>NaN</td>\n      <td>NaN</td>\n      <td>NaN</td>\n    </tr>\n    <tr>\n      <th>lb14</th>\n      <td>9.0</td>\n      <td>6.0</td>\n      <td>4.0</td>\n      <td>6.0</td>\n      <td>6.0</td>\n      <td>6.0</td>\n      <td>6.0</td>\n      <td>6.0</td>\n      <td>8.0</td>\n      <td>6.0</td>\n      <td>6.0</td>\n      <td>NaN</td>\n      <td>NaN</td>\n      <td>NaN</td>\n      <td>NaN</td>\n      <td>NaN</td>\n    </tr>\n  </tbody>\n</table>\n</div>"
     },
     "metadata": {},
     "output_type": "display_data"
    }
   ],
   "source": [
    "weights = group_history.iloc[:, 1].values\n",
    "\n",
    "group_sizes = pd.DataFrame([\n",
    "    [\n",
    "        np.sum([weights[i] if value == group_char else 0 for i, value in enumerate(group_history[column])])\n",
    "        for group_char in group_chars\n",
    "    ] for column in group_history.columns[2:-3]\n",
    "],\n",
    "columns=group_chars,\n",
    "index=[column for column in group_history.columns[2:-3]],\n",
    ").replace(0, np.nan)\n",
    "\n",
    "display(group_sizes.tail(5))\n"
   ],
   "metadata": {
    "collapsed": false,
    "pycharm": {
     "name": "#%%\n"
    }
   }
  },
  {
   "cell_type": "markdown",
   "source": [
    "### create met_before lookup dict\n",
    "- key: group history index\n",
    "- value: list of group history indexes\n"
   ],
   "metadata": {
    "collapsed": false
   }
  },
  {
   "cell_type": "code",
   "execution_count": 192,
   "outputs": [],
   "source": [
    "all_groups = list()\n",
    "for col_name, grouping in group_history.iteritems():\n",
    "    for group_char in set(grouping):\n",
    "        if group_char in group_chars:\n",
    "            all_groups.append(group_history.index[group_history[col_name] == group_char].tolist())\n",
    "\n",
    "met_before = {i: set([i,]) for i, groups in group_history.iterrows()}\n",
    "for group in all_groups:\n",
    "    for i in group:\n",
    "        for j in group:\n",
    "            met_before[i].add(j)\n"
   ],
   "metadata": {
    "collapsed": false,
    "pycharm": {
     "name": "#%%\n"
    }
   }
  },
  {
   "cell_type": "code",
   "execution_count": 200,
   "outputs": [
    {
     "data": {
      "text/plain": "      0      1      2     3      4      5      6      7      8      9   ...  \\\n0      0   66.0   70.0   8.0   76.0   44.0   49.0   20.0  116.0   91.0  ...   \n1      1   66.0   99.0  36.0  130.0  113.0   49.0  115.0   20.0  116.0  ...   \n2    129    2.0    3.0  66.0   76.0  109.0   87.0   91.0    NaN    NaN  ...   \n3      2    3.0   66.0   4.0   37.0  103.0   27.0    6.0   74.0   76.0  ...   \n4    128  130.0    3.0   4.0    5.0    6.0   11.0   19.0   20.0   25.0  ...   \n..   ...    ...    ...   ...    ...    ...    ...    ...    ...    ...  ...   \n127   66   75.0   12.0  15.0   17.0   52.0  118.0   26.0   91.0  127.0  ...   \n128  128   66.0  130.0   4.0  103.0    8.0   74.0   43.0   45.0  113.0  ...   \n129   64  129.0    2.0   6.0   71.0  106.0   76.0   80.0   18.0   52.0  ...   \n130  128    1.0  130.0   4.0    5.0    9.0   11.0   18.0   20.0   26.0  ...   \n131  131   36.0  105.0  75.0   16.0   81.0   84.0   54.0   57.0  122.0  ...   \n\n     42  43  44  45  46  47  48  49  50  51  \n0   NaN NaN NaN NaN NaN NaN NaN NaN NaN NaN  \n1   NaN NaN NaN NaN NaN NaN NaN NaN NaN NaN  \n2   NaN NaN NaN NaN NaN NaN NaN NaN NaN NaN  \n3   NaN NaN NaN NaN NaN NaN NaN NaN NaN NaN  \n4   NaN NaN NaN NaN NaN NaN NaN NaN NaN NaN  \n..   ..  ..  ..  ..  ..  ..  ..  ..  ..  ..  \n127 NaN NaN NaN NaN NaN NaN NaN NaN NaN NaN  \n128 NaN NaN NaN NaN NaN NaN NaN NaN NaN NaN  \n129 NaN NaN NaN NaN NaN NaN NaN NaN NaN NaN  \n130 NaN NaN NaN NaN NaN NaN NaN NaN NaN NaN  \n131 NaN NaN NaN NaN NaN NaN NaN NaN NaN NaN  \n\n[132 rows x 52 columns]",
      "text/html": "<div>\n<style scoped>\n    .dataframe tbody tr th:only-of-type {\n        vertical-align: middle;\n    }\n\n    .dataframe tbody tr th {\n        vertical-align: top;\n    }\n\n    .dataframe thead th {\n        text-align: right;\n    }\n</style>\n<table border=\"1\" class=\"dataframe\">\n  <thead>\n    <tr style=\"text-align: right;\">\n      <th></th>\n      <th>0</th>\n      <th>1</th>\n      <th>2</th>\n      <th>3</th>\n      <th>4</th>\n      <th>5</th>\n      <th>6</th>\n      <th>7</th>\n      <th>8</th>\n      <th>9</th>\n      <th>...</th>\n      <th>42</th>\n      <th>43</th>\n      <th>44</th>\n      <th>45</th>\n      <th>46</th>\n      <th>47</th>\n      <th>48</th>\n      <th>49</th>\n      <th>50</th>\n      <th>51</th>\n    </tr>\n  </thead>\n  <tbody>\n    <tr>\n      <th>0</th>\n      <td>0</td>\n      <td>66.0</td>\n      <td>70.0</td>\n      <td>8.0</td>\n      <td>76.0</td>\n      <td>44.0</td>\n      <td>49.0</td>\n      <td>20.0</td>\n      <td>116.0</td>\n      <td>91.0</td>\n      <td>...</td>\n      <td>NaN</td>\n      <td>NaN</td>\n      <td>NaN</td>\n      <td>NaN</td>\n      <td>NaN</td>\n      <td>NaN</td>\n      <td>NaN</td>\n      <td>NaN</td>\n      <td>NaN</td>\n      <td>NaN</td>\n    </tr>\n    <tr>\n      <th>1</th>\n      <td>1</td>\n      <td>66.0</td>\n      <td>99.0</td>\n      <td>36.0</td>\n      <td>130.0</td>\n      <td>113.0</td>\n      <td>49.0</td>\n      <td>115.0</td>\n      <td>20.0</td>\n      <td>116.0</td>\n      <td>...</td>\n      <td>NaN</td>\n      <td>NaN</td>\n      <td>NaN</td>\n      <td>NaN</td>\n      <td>NaN</td>\n      <td>NaN</td>\n      <td>NaN</td>\n      <td>NaN</td>\n      <td>NaN</td>\n      <td>NaN</td>\n    </tr>\n    <tr>\n      <th>2</th>\n      <td>129</td>\n      <td>2.0</td>\n      <td>3.0</td>\n      <td>66.0</td>\n      <td>76.0</td>\n      <td>109.0</td>\n      <td>87.0</td>\n      <td>91.0</td>\n      <td>NaN</td>\n      <td>NaN</td>\n      <td>...</td>\n      <td>NaN</td>\n      <td>NaN</td>\n      <td>NaN</td>\n      <td>NaN</td>\n      <td>NaN</td>\n      <td>NaN</td>\n      <td>NaN</td>\n      <td>NaN</td>\n      <td>NaN</td>\n      <td>NaN</td>\n    </tr>\n    <tr>\n      <th>3</th>\n      <td>2</td>\n      <td>3.0</td>\n      <td>66.0</td>\n      <td>4.0</td>\n      <td>37.0</td>\n      <td>103.0</td>\n      <td>27.0</td>\n      <td>6.0</td>\n      <td>74.0</td>\n      <td>76.0</td>\n      <td>...</td>\n      <td>NaN</td>\n      <td>NaN</td>\n      <td>NaN</td>\n      <td>NaN</td>\n      <td>NaN</td>\n      <td>NaN</td>\n      <td>NaN</td>\n      <td>NaN</td>\n      <td>NaN</td>\n      <td>NaN</td>\n    </tr>\n    <tr>\n      <th>4</th>\n      <td>128</td>\n      <td>130.0</td>\n      <td>3.0</td>\n      <td>4.0</td>\n      <td>5.0</td>\n      <td>6.0</td>\n      <td>11.0</td>\n      <td>19.0</td>\n      <td>20.0</td>\n      <td>25.0</td>\n      <td>...</td>\n      <td>NaN</td>\n      <td>NaN</td>\n      <td>NaN</td>\n      <td>NaN</td>\n      <td>NaN</td>\n      <td>NaN</td>\n      <td>NaN</td>\n      <td>NaN</td>\n      <td>NaN</td>\n      <td>NaN</td>\n    </tr>\n    <tr>\n      <th>...</th>\n      <td>...</td>\n      <td>...</td>\n      <td>...</td>\n      <td>...</td>\n      <td>...</td>\n      <td>...</td>\n      <td>...</td>\n      <td>...</td>\n      <td>...</td>\n      <td>...</td>\n      <td>...</td>\n      <td>...</td>\n      <td>...</td>\n      <td>...</td>\n      <td>...</td>\n      <td>...</td>\n      <td>...</td>\n      <td>...</td>\n      <td>...</td>\n      <td>...</td>\n      <td>...</td>\n    </tr>\n    <tr>\n      <th>127</th>\n      <td>66</td>\n      <td>75.0</td>\n      <td>12.0</td>\n      <td>15.0</td>\n      <td>17.0</td>\n      <td>52.0</td>\n      <td>118.0</td>\n      <td>26.0</td>\n      <td>91.0</td>\n      <td>127.0</td>\n      <td>...</td>\n      <td>NaN</td>\n      <td>NaN</td>\n      <td>NaN</td>\n      <td>NaN</td>\n      <td>NaN</td>\n      <td>NaN</td>\n      <td>NaN</td>\n      <td>NaN</td>\n      <td>NaN</td>\n      <td>NaN</td>\n    </tr>\n    <tr>\n      <th>128</th>\n      <td>128</td>\n      <td>66.0</td>\n      <td>130.0</td>\n      <td>4.0</td>\n      <td>103.0</td>\n      <td>8.0</td>\n      <td>74.0</td>\n      <td>43.0</td>\n      <td>45.0</td>\n      <td>113.0</td>\n      <td>...</td>\n      <td>NaN</td>\n      <td>NaN</td>\n      <td>NaN</td>\n      <td>NaN</td>\n      <td>NaN</td>\n      <td>NaN</td>\n      <td>NaN</td>\n      <td>NaN</td>\n      <td>NaN</td>\n      <td>NaN</td>\n    </tr>\n    <tr>\n      <th>129</th>\n      <td>64</td>\n      <td>129.0</td>\n      <td>2.0</td>\n      <td>6.0</td>\n      <td>71.0</td>\n      <td>106.0</td>\n      <td>76.0</td>\n      <td>80.0</td>\n      <td>18.0</td>\n      <td>52.0</td>\n      <td>...</td>\n      <td>NaN</td>\n      <td>NaN</td>\n      <td>NaN</td>\n      <td>NaN</td>\n      <td>NaN</td>\n      <td>NaN</td>\n      <td>NaN</td>\n      <td>NaN</td>\n      <td>NaN</td>\n      <td>NaN</td>\n    </tr>\n    <tr>\n      <th>130</th>\n      <td>128</td>\n      <td>1.0</td>\n      <td>130.0</td>\n      <td>4.0</td>\n      <td>5.0</td>\n      <td>9.0</td>\n      <td>11.0</td>\n      <td>18.0</td>\n      <td>20.0</td>\n      <td>26.0</td>\n      <td>...</td>\n      <td>NaN</td>\n      <td>NaN</td>\n      <td>NaN</td>\n      <td>NaN</td>\n      <td>NaN</td>\n      <td>NaN</td>\n      <td>NaN</td>\n      <td>NaN</td>\n      <td>NaN</td>\n      <td>NaN</td>\n    </tr>\n    <tr>\n      <th>131</th>\n      <td>131</td>\n      <td>36.0</td>\n      <td>105.0</td>\n      <td>75.0</td>\n      <td>16.0</td>\n      <td>81.0</td>\n      <td>84.0</td>\n      <td>54.0</td>\n      <td>57.0</td>\n      <td>122.0</td>\n      <td>...</td>\n      <td>NaN</td>\n      <td>NaN</td>\n      <td>NaN</td>\n      <td>NaN</td>\n      <td>NaN</td>\n      <td>NaN</td>\n      <td>NaN</td>\n      <td>NaN</td>\n      <td>NaN</td>\n      <td>NaN</td>\n    </tr>\n  </tbody>\n</table>\n<p>132 rows × 52 columns</p>\n</div>"
     },
     "metadata": {},
     "output_type": "display_data"
    }
   ],
   "source": [
    "met_before_df = pd.DataFrame.from_dict(met_before, orient='index')\n",
    "display(met_before_df)\n",
    "\n",
    "# Export Met Before data to csv\n",
    "met_before_df.to_csv(\"met_before.csv\", sep='\\t')\n"
   ],
   "metadata": {
    "collapsed": false,
    "pycharm": {
     "name": "#%%\n"
    }
   }
  },
  {
   "cell_type": "markdown",
   "source": [
    "### data sanity check\n",
    "- expect 10-25 unique groups in each round\n",
    "- groups around 4-8 in size\n",
    "- max possible group memberships is 29\n",
    "- 20-50% of members never active before\n"
   ],
   "metadata": {
    "collapsed": false
   }
  },
  {
   "cell_type": "code",
   "execution_count": 194,
   "outputs": [
    {
     "data": {
      "text/plain": "                            mean  min   max\nnumber of groups        4.448276  0.0  11.0\ngroup size head count   6.100775  1.0  13.0\nmet counts             11.287879  1.0  48.0",
      "text/html": "<div>\n<style scoped>\n    .dataframe tbody tr th:only-of-type {\n        vertical-align: middle;\n    }\n\n    .dataframe tbody tr th {\n        vertical-align: top;\n    }\n\n    .dataframe thead th {\n        text-align: right;\n    }\n</style>\n<table border=\"1\" class=\"dataframe\">\n  <thead>\n    <tr style=\"text-align: right;\">\n      <th></th>\n      <th>mean</th>\n      <th>min</th>\n      <th>max</th>\n    </tr>\n  </thead>\n  <tbody>\n    <tr>\n      <th>number of groups</th>\n      <td>4.448276</td>\n      <td>0.0</td>\n      <td>11.0</td>\n    </tr>\n    <tr>\n      <th>group size head count</th>\n      <td>6.100775</td>\n      <td>1.0</td>\n      <td>13.0</td>\n    </tr>\n    <tr>\n      <th>met counts</th>\n      <td>11.287879</td>\n      <td>1.0</td>\n      <td>48.0</td>\n    </tr>\n  </tbody>\n</table>\n</div>"
     },
     "metadata": {},
     "output_type": "display_data"
    }
   ],
   "source": [
    "# filter row data\n",
    "# [list(filter(lambda x: x>0, grouping)) for i, grouping in group_sizes.iterrows()]\n",
    "\n",
    "group_counts = [np.sum(len(list(filter(lambda x: x>0, grouping)))) for i, grouping in group_sizes.iterrows()]\n",
    "\n",
    "features = pd.DataFrame(\n",
    "    [\n",
    "        [\n",
    "            # number of groups\n",
    "            np.mean(group_counts),\n",
    "            np.min(group_counts),\n",
    "            np.max(group_counts),\n",
    "        ],\n",
    "        [\n",
    "            # group size\n",
    "            np.mean([np.nanmean(group_sizes)]),\n",
    "            np.min([np.nanmin(group_sizes)]),\n",
    "            np.max([np.nanmax(group_sizes)]),\n",
    "        ],\n",
    "        [\n",
    "            # socializing\n",
    "            np.mean([len(met_set) for i, met_set in met_before.items()]),\n",
    "            np.min([len(met_set) for i, met_set in met_before.items()]),\n",
    "            np.max([len(met_set) for i, met_set in met_before.items()]),\n",
    "        ],\n",
    "    ],\n",
    "    columns=['mean', 'min', 'max'],\n",
    "    index=['number of groups', 'group size head count', 'met counts'],\n",
    ")\n",
    "\n",
    "display(features)"
   ],
   "metadata": {
    "collapsed": false,
    "pycharm": {
     "name": "#%%\n"
    }
   }
  },
  {
   "cell_type": "markdown",
   "source": [
    "# Create next SC and LB groupings\n",
    "- confirm group requirements\n"
   ],
   "metadata": {
    "collapsed": false
   }
  },
  {
   "cell_type": "code",
   "execution_count": 195,
   "outputs": [
    {
     "data": {
      "text/plain": "                  target  min  max\nsc group size          6    5    6\nsc singles count       2    0    4\nsc couple count        3    3    4\nlb group size          6    5    7\nlb singles count       2    0    3\nlb couple count        2    2    3",
      "text/html": "<div>\n<style scoped>\n    .dataframe tbody tr th:only-of-type {\n        vertical-align: middle;\n    }\n\n    .dataframe tbody tr th {\n        vertical-align: top;\n    }\n\n    .dataframe thead th {\n        text-align: right;\n    }\n</style>\n<table border=\"1\" class=\"dataframe\">\n  <thead>\n    <tr style=\"text-align: right;\">\n      <th></th>\n      <th>target</th>\n      <th>min</th>\n      <th>max</th>\n    </tr>\n  </thead>\n  <tbody>\n    <tr>\n      <th>sc group size</th>\n      <td>6</td>\n      <td>5</td>\n      <td>6</td>\n    </tr>\n    <tr>\n      <th>sc singles count</th>\n      <td>2</td>\n      <td>0</td>\n      <td>4</td>\n    </tr>\n    <tr>\n      <th>sc couple count</th>\n      <td>3</td>\n      <td>3</td>\n      <td>4</td>\n    </tr>\n    <tr>\n      <th>lb group size</th>\n      <td>6</td>\n      <td>5</td>\n      <td>7</td>\n    </tr>\n    <tr>\n      <th>lb singles count</th>\n      <td>2</td>\n      <td>0</td>\n      <td>3</td>\n    </tr>\n    <tr>\n      <th>lb couple count</th>\n      <td>2</td>\n      <td>2</td>\n      <td>3</td>\n    </tr>\n  </tbody>\n</table>\n</div>"
     },
     "metadata": {},
     "output_type": "display_data"
    }
   ],
   "source": [
    "display(pd.DataFrame([\n",
    "    sc_group_size, sc_singles_count, sc_couple_count,\n",
    "    lb_group_size, lb_singles_count, lb_couple_count,\n",
    "],\n",
    "    columns=['target', 'min', 'max'],\n",
    "    index=['sc group size', 'sc singles count', 'sc couple count',\n",
    "           'lb group size', 'lb singles count', 'lb couple count',],\n",
    "))"
   ],
   "metadata": {
    "collapsed": false,
    "pycharm": {
     "name": "#%%\n"
    }
   }
  },
  {
   "cell_type": "markdown",
   "source": [
    "- create groups\n",
    "- disperse indexes by order of met counts\n",
    "- check member requirements\n",
    "- check total size limits"
   ],
   "metadata": {
    "collapsed": false
   }
  },
  {
   "cell_type": "code",
   "execution_count": 196,
   "outputs": [],
   "source": [
    "# sort indexes by weight (couples first), then met_before count (most first_\n",
    "ordered_indexes = collections.OrderedDict(sorted(met_before.items(), key=lambda met_set: (-weights[met_set[0]], -len(met_set[1]))))\n",
    "# for i, met_set in ordered_indexes.items():\n",
    "#     print(f\"{i} has met {met_set}\")"
   ],
   "metadata": {
    "collapsed": false,
    "pycharm": {
     "name": "#%%\n"
    }
   }
  },
  {
   "cell_type": "code",
   "execution_count": 197,
   "outputs": [
    {
     "name": "stderr",
     "output_type": "stream",
     "text": [
      "<>:49: SyntaxWarning: \"is not\" with a literal. Did you mean \"!=\"?\n",
      "<>:49: SyntaxWarning: \"is not\" with a literal. Did you mean \"!=\"?\n",
      "/var/folders/88/nw1f1bfs2fd2ck22dqgjy4540000gn/T/ipykernel_83655/213526220.py:49: SyntaxWarning: \"is not\" with a literal. Did you mean \"!=\"?\n",
      "  if i is not 119:\n"
     ]
    }
   ],
   "source": [
    "indexes_list = list(ordered_indexes.keys())\n",
    "\n",
    "min_groups_count = {\n",
    "    \"sc\": 5,  # np.sum(weights) / sc_group_size.target\n",
    "    \"elb\": 3,  # np.sum(weights) / lb_group_size.max\n",
    "    \"llb\": 5,  # np.sum(weights) / lb_group_size.max\n",
    "}\n",
    "\n",
    "@dataclass\n",
    "class NewGroup:\n",
    "    members: list\n",
    "    singles: int\n",
    "    couples: int\n",
    "    size: int\n",
    "    kind: str\n",
    "\n",
    "def i_can_join(asking_index: int, new_group: NewGroup, please=False):\n",
    "    if asking_index in new_group.members:\n",
    "        raise Exception(\"already a member of this group!\")\n",
    "\n",
    "    if new_group.size >= (lb_group_size.max if new_group.kind.endswith(\"lb\") else sc_group_size.max):\n",
    "        return False\n",
    "\n",
    "    if weights[asking_index] == 1 and \\\n",
    "            new_group.singles >= (lb_singles_count.max if new_group.kind.endswith(\"lb\") else sc_singles_count.max):\n",
    "        return False\n",
    "\n",
    "    if weights[asking_index] == 2 and \\\n",
    "            new_group.couples >= (lb_couple_count.max if new_group.kind.endswith(\"lb\") else sc_couple_count.max):\n",
    "        return False\n",
    "\n",
    "    if please != \"pretty please\":\n",
    "        if len(set(new_group.members).intersection(met_before[asking_index])) > 2:\n",
    "            return False\n",
    "\n",
    "    if not please:\n",
    "        if len(set(new_group.members).intersection(met_before[asking_index])) > 0:\n",
    "            return False\n",
    "\n",
    "        if new_group.size >= (lb_group_size.target if new_group.kind.endswith(\"lb\") else sc_group_size.target):\n",
    "            return False\n",
    "        if weights[asking_index] == 1 and new_group.singles >= (lb_singles_count.target if new_group.kind.endswith(\"lb\") else sc_singles_count.target):\n",
    "            return False\n",
    "        if weights[asking_index] >= 2 and new_group.couples >= (lb_couple_count.target if new_group.kind.endswith(\"lb\") else sc_couple_count.target):\n",
    "            return False\n",
    "\n",
    "    if len(set(new_group.members).intersection(met_before[asking_index])) > 0:\n",
    "        those_meeting_the_met = set(new_group.members).intersection(met_before[asking_index])\n",
    "        if i is not 119:\n",
    "            print(f'index {i} has met with {those_meeting_the_met} and will see them again')\n",
    "\n",
    "    return True\n",
    "\n",
    "\n",
    "def populate_grouping(grouping, group_kind):\n",
    "    placed_indexes = set()\n",
    "    displaced_indexes = set()\n",
    "    for index in indexes_list:\n",
    "        this_index_placed = False\n",
    "\n",
    "        if \"X\" == group_history[f\"{group_kind}_block\"].values[index]:\n",
    "            # print(f'index {index} found {group_history[f\"{group_kind}_block\"].values[index]}')\n",
    "            continue\n",
    "\n",
    "        for group_i, group in enumerate(grouping):\n",
    "\n",
    "            #  fill an empty group\n",
    "            if len(group.members) == 0:\n",
    "                assert(group.size==0)\n",
    "                grouping[group_i].members.append(index)\n",
    "                this_index_placed = True\n",
    "                break\n",
    "\n",
    "            # join group if not full and unmet members\n",
    "            if i_can_join(index, group):\n",
    "                grouping[group_i].members.append(index)\n",
    "                this_index_placed = True\n",
    "                break\n",
    "\n",
    "            # create a new group\n",
    "            if len(grouping) < min_groups_count[group_kind]:\n",
    "                grouping.append(NewGroup([index,], 0, 0, 0, group_kind))\n",
    "                this_index_placed = True\n",
    "                group_i = len(grouping)-1\n",
    "                break\n",
    "\n",
    "        # uncomment to allow going beyond targets\n",
    "        if not this_index_placed:\n",
    "            for group_i, group in enumerate(grouping):\n",
    "                if i_can_join(index, group, please=True):  # can set please=\"pretty please\"\n",
    "                    grouping[group_i].members.append(index)\n",
    "                    this_index_placed = True\n",
    "                    break\n",
    "\n",
    "        if this_index_placed:\n",
    "            grouping[group_i].size += weights[index]\n",
    "            if weights[index] == 1:\n",
    "                grouping[group_i].singles += 1\n",
    "            else:\n",
    "                grouping[group_i].couples += 1\n",
    "            placed_indexes.add(index)\n",
    "        else:\n",
    "            displaced_indexes.add(index)\n",
    "\n",
    "    return grouping, displaced_indexes\n"
   ],
   "metadata": {
    "collapsed": false,
    "pycharm": {
     "name": "#%%\n"
    }
   }
  },
  {
   "cell_type": "markdown",
   "source": [
    "# Results"
   ],
   "metadata": {
    "collapsed": false
   }
  },
  {
   "cell_type": "code",
   "execution_count": 198,
   "outputs": [
    {
     "name": "stdout",
     "output_type": "stream",
     "text": [
      "elb needed at least 3 groups. and ended up creating 3 groups\n"
     ]
    },
    {
     "data": {
      "text/plain": "[NewGroup(members=[47, 95, 63, 105], singles=1, couples=3, size=7, kind='elb'),\n NewGroup(members=[72, 97, 68, 25], singles=1, couples=3, size=7, kind='elb'),\n NewGroup(members=[84, 7, 91, 42, 54], singles=3, couples=2, size=7, kind='elb')]"
     },
     "metadata": {},
     "output_type": "display_data"
    },
    {
     "name": "stdout",
     "output_type": "stream",
     "text": [
      "1 leftover could not be placed\n",
      "llb needed at least 5 groups. and ended up creating 5 groups\n"
     ]
    },
    {
     "data": {
      "text/plain": "[NewGroup(members=[57, 117, 34], singles=0, couples=3, size=7, kind='llb'),\n NewGroup(members=[113, 111, 98, 74], singles=1, couples=3, size=7, kind='llb'),\n NewGroup(members=[65, 39, 123, 112], singles=1, couples=3, size=7, kind='llb'),\n NewGroup(members=[6, 62, 75, 93], singles=2, couples=2, size=6, kind='llb'),\n NewGroup(members=[119, 101, 4, 70], singles=2, couples=2, size=6, kind='llb')]"
     },
     "metadata": {},
     "output_type": "display_data"
    },
    {
     "name": "stdout",
     "output_type": "stream",
     "text": [
      "Everyone was placed!\n",
      "sc needed at least 5 groups. and ended up creating 5 groups\n"
     ]
    },
    {
     "data": {
      "text/plain": "[NewGroup(members=[113, 5, 90], singles=0, couples=3, size=6, kind='sc'),\n NewGroup(members=[36, 46, 55], singles=0, couples=3, size=6, kind='sc'),\n NewGroup(members=[122, 120, 40], singles=0, couples=3, size=6, kind='sc'),\n NewGroup(members=[99, 117, 105, 75], singles=2, couples=2, size=6, kind='sc'),\n NewGroup(members=[116, 20, 130, 9, 54], singles=4, couples=1, size=6, kind='sc')]"
     },
     "metadata": {},
     "output_type": "display_data"
    },
    {
     "name": "stdout",
     "output_type": "stream",
     "text": [
      "2 leftover could not be placed\n"
     ]
    }
   ],
   "source": [
    "group_keys, groupings, unfit_lists = ['elb', 'llb', 'sc',], dict(), dict()\n",
    "\n",
    "for round_group_key in group_keys:\n",
    "\n",
    "    (groupings[round_group_key], unfit_lists[round_group_key]) = populate_grouping([NewGroup([],0,0,0,round_group_key),], round_group_key)\n",
    "    print(f\"{round_group_key} needed at least {int(min_groups_count[round_group_key])} groups. and ended up creating {len(groupings[round_group_key])} groups\")\n",
    "\n",
    "    display(groupings[round_group_key])\n",
    "\n",
    "    if unfit_lists[round_group_key]:\n",
    "        print(f\"{len(unfit_lists[round_group_key])} leftover could not be placed\")\n",
    "    else:\n",
    "        print(\"Everyone was placed!\")\n",
    "\n",
    "    for group in groupings[round_group_key]:\n",
    "        for member_index in group.members:\n",
    "            for member in group.members:\n",
    "                met_before[member_index].add(member)\n"
   ],
   "metadata": {
    "collapsed": false,
    "pycharm": {
     "name": "#%%\n"
    }
   }
  },
  {
   "cell_type": "code",
   "execution_count": 199,
   "outputs": [
    {
     "name": "stdout",
     "output_type": "stream",
     "text": [
      "all the people Jean met before\n",
      "[3, 4, 5, 6, 11, 19, 20, 25, 27, 36, 38, 42, 46, 47, 50, 52, 61, 66, 67, 70, 75, 76, 82, 91, 92, 93, 94, 95, 96, 97, 101, 105, 108, 110, 113, 115, 116, 117, 119, 120, 128, 130]\n"
     ]
    }
   ],
   "source": [
    "# Jean\n",
    "\n",
    "jean = 4\n",
    "print(\"all the people Jean met before\")\n",
    "print(sorted(list(met_before[jean])))\n"
   ],
   "metadata": {
    "collapsed": false,
    "pycharm": {
     "name": "#%%\n"
    }
   }
  },
  {
   "cell_type": "code",
   "execution_count": 199,
   "outputs": [],
   "source": [],
   "metadata": {
    "collapsed": false,
    "pycharm": {
     "name": "#%%\n"
    }
   }
  }
 ],
 "metadata": {
  "kernelspec": {
   "display_name": "Python 3",
   "language": "python",
   "name": "python3"
  },
  "language_info": {
   "codemirror_mode": {
    "name": "ipython",
    "version": 2
   },
   "file_extension": ".py",
   "mimetype": "text/x-python",
   "name": "python",
   "nbconvert_exporter": "python",
   "pygments_lexer": "ipython2",
   "version": "2.7.6"
  }
 },
 "nbformat": 4,
 "nbformat_minor": 0
}