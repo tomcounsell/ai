{
 "cells": [
  {
   "cell_type": "markdown",
   "metadata": {
    "collapsed": true,
    "pycharm": {
     "name": "#%% md\n"
    }
   },
   "source": [
    "## LBC group management\n"
   ]
  },
  {
   "cell_type": "code",
   "execution_count": 299,
   "outputs": [],
   "source": [
    "import collections\n",
    "from dataclasses import dataclass\n",
    "import pandas as pd\n",
    "import numpy as np\n",
    "from collections import namedtuple\n",
    "group_chars = [c for c in 'ABCDEFGHIJKL']\n",
    "requirement = namedtuple('requirement', 'target min max')\n",
    "sc_group_size = requirement(8,6,9)\n",
    "sc_singles_count = requirement(2,0,4)\n",
    "sc_couple_count = requirement(3,3,4)\n",
    "lb_group_size = requirement(6,5,7)\n",
    "lb_singles_count = requirement(2,0,3)\n",
    "lb_couple_count = requirement(2,2,3)\n"
   ],
   "metadata": {
    "collapsed": false,
    "pycharm": {
     "name": "#%%\n"
    }
   }
  },
  {
   "cell_type": "markdown",
   "source": [
    "### import historical groupings\n",
    "- columns are groupings, of either type 'lb' or 'sc'\n",
    "- rows are members\n",
    "- character denotes membership in a group. same letter same group. null for no involvement"
   ],
   "metadata": {
    "collapsed": false
   }
  },
  {
   "cell_type": "code",
   "execution_count": 300,
   "outputs": [
    {
     "data": {
      "text/plain": "   size  lb0  sc0  lb1  sc1  lb2  sc2  lb3  sc3  lb4  ...  sc9 lb10 sc10 lb11  \\\n0     2  NaN  NaN  NaN  NaN  NaN  NaN  NaN  NaN  NaN  ...    B  NaN    C  NaN   \n1     1    D  NaN  NaN  NaN  NaN  NaN  NaN  NaN  NaN  ...  NaN  NaN  NaN  NaN   \n2     2    D  NaN    F  NaN    G  NaN  NaN    B    E  ...  NaN  NaN  NaN  NaN   \n3     1    A    E    F    C    I    B    F    C    F  ...    A  NaN    A  NaN   \n4     2  NaN    E    E  NaN  NaN    A  NaN  NaN    C  ...  NaN  NaN  NaN  NaN   \n\n  sc11 lb12 sc12 lb13 sc13 lb14  \n0  NaN  NaN  NaN  NaN    A  NaN  \n1  NaN  NaN  NaN  NaN  NaN  NaN  \n2  NaN  NaN  NaN  NaN  NaN  NaN  \n3  NaN  NaN    C  NaN    D  NaN  \n4  NaN  NaN  NaN  NaN    E  NaN  \n\n[5 rows x 30 columns]",
      "text/html": "<div>\n<style scoped>\n    .dataframe tbody tr th:only-of-type {\n        vertical-align: middle;\n    }\n\n    .dataframe tbody tr th {\n        vertical-align: top;\n    }\n\n    .dataframe thead th {\n        text-align: right;\n    }\n</style>\n<table border=\"1\" class=\"dataframe\">\n  <thead>\n    <tr style=\"text-align: right;\">\n      <th></th>\n      <th>size</th>\n      <th>lb0</th>\n      <th>sc0</th>\n      <th>lb1</th>\n      <th>sc1</th>\n      <th>lb2</th>\n      <th>sc2</th>\n      <th>lb3</th>\n      <th>sc3</th>\n      <th>lb4</th>\n      <th>...</th>\n      <th>sc9</th>\n      <th>lb10</th>\n      <th>sc10</th>\n      <th>lb11</th>\n      <th>sc11</th>\n      <th>lb12</th>\n      <th>sc12</th>\n      <th>lb13</th>\n      <th>sc13</th>\n      <th>lb14</th>\n    </tr>\n  </thead>\n  <tbody>\n    <tr>\n      <th>0</th>\n      <td>2</td>\n      <td>NaN</td>\n      <td>NaN</td>\n      <td>NaN</td>\n      <td>NaN</td>\n      <td>NaN</td>\n      <td>NaN</td>\n      <td>NaN</td>\n      <td>NaN</td>\n      <td>NaN</td>\n      <td>...</td>\n      <td>B</td>\n      <td>NaN</td>\n      <td>C</td>\n      <td>NaN</td>\n      <td>NaN</td>\n      <td>NaN</td>\n      <td>NaN</td>\n      <td>NaN</td>\n      <td>A</td>\n      <td>NaN</td>\n    </tr>\n    <tr>\n      <th>1</th>\n      <td>1</td>\n      <td>D</td>\n      <td>NaN</td>\n      <td>NaN</td>\n      <td>NaN</td>\n      <td>NaN</td>\n      <td>NaN</td>\n      <td>NaN</td>\n      <td>NaN</td>\n      <td>NaN</td>\n      <td>...</td>\n      <td>NaN</td>\n      <td>NaN</td>\n      <td>NaN</td>\n      <td>NaN</td>\n      <td>NaN</td>\n      <td>NaN</td>\n      <td>NaN</td>\n      <td>NaN</td>\n      <td>NaN</td>\n      <td>NaN</td>\n    </tr>\n    <tr>\n      <th>2</th>\n      <td>2</td>\n      <td>D</td>\n      <td>NaN</td>\n      <td>F</td>\n      <td>NaN</td>\n      <td>G</td>\n      <td>NaN</td>\n      <td>NaN</td>\n      <td>B</td>\n      <td>E</td>\n      <td>...</td>\n      <td>NaN</td>\n      <td>NaN</td>\n      <td>NaN</td>\n      <td>NaN</td>\n      <td>NaN</td>\n      <td>NaN</td>\n      <td>NaN</td>\n      <td>NaN</td>\n      <td>NaN</td>\n      <td>NaN</td>\n    </tr>\n    <tr>\n      <th>3</th>\n      <td>1</td>\n      <td>A</td>\n      <td>E</td>\n      <td>F</td>\n      <td>C</td>\n      <td>I</td>\n      <td>B</td>\n      <td>F</td>\n      <td>C</td>\n      <td>F</td>\n      <td>...</td>\n      <td>A</td>\n      <td>NaN</td>\n      <td>A</td>\n      <td>NaN</td>\n      <td>NaN</td>\n      <td>NaN</td>\n      <td>C</td>\n      <td>NaN</td>\n      <td>D</td>\n      <td>NaN</td>\n    </tr>\n    <tr>\n      <th>4</th>\n      <td>2</td>\n      <td>NaN</td>\n      <td>E</td>\n      <td>E</td>\n      <td>NaN</td>\n      <td>NaN</td>\n      <td>A</td>\n      <td>NaN</td>\n      <td>NaN</td>\n      <td>C</td>\n      <td>...</td>\n      <td>NaN</td>\n      <td>NaN</td>\n      <td>NaN</td>\n      <td>NaN</td>\n      <td>NaN</td>\n      <td>NaN</td>\n      <td>NaN</td>\n      <td>NaN</td>\n      <td>E</td>\n      <td>NaN</td>\n    </tr>\n  </tbody>\n</table>\n<p>5 rows × 30 columns</p>\n</div>"
     },
     "metadata": {},
     "output_type": "display_data"
    }
   ],
   "source": [
    "column_names = ['size'] + list(f'{\"sc\" if i%2 else \"lb\"}{i//2}'\n",
    "                             for i in range(29)\n",
    "                             )\n",
    "group_history = pd.read_csv(\"LBC_group_history.csv\", names=column_names,header=0)\n",
    "\n",
    "display(group_history.head(5))"
   ],
   "metadata": {
    "collapsed": false,
    "pycharm": {
     "name": "#%%\n"
    }
   }
  },
  {
   "cell_type": "markdown",
   "source": [
    "### measure group sizes\n",
    "- get total group sizes using weights from size column\n"
   ],
   "metadata": {
    "collapsed": false
   }
  },
  {
   "cell_type": "code",
   "execution_count": 301,
   "outputs": [
    {
     "data": {
      "text/plain": "       A    B    C    D    E    F    G    H    I   J   K   L\nlb0  6.0  4.0  4.0  6.0  6.0  NaN  NaN  NaN  NaN NaN NaN NaN\nsc0  7.0  6.0  7.0  5.0  4.0  6.0  NaN  NaN  NaN NaN NaN NaN\nlb1  5.0  1.0  4.0  4.0  6.0  7.0  6.0  NaN  NaN NaN NaN NaN\nsc1  7.0  8.0  4.0  5.0  NaN  NaN  NaN  NaN  NaN NaN NaN NaN\nlb2  5.0  4.0  3.0  5.0  6.0  4.0  6.0  6.0  3.0 NaN NaN NaN",
      "text/html": "<div>\n<style scoped>\n    .dataframe tbody tr th:only-of-type {\n        vertical-align: middle;\n    }\n\n    .dataframe tbody tr th {\n        vertical-align: top;\n    }\n\n    .dataframe thead th {\n        text-align: right;\n    }\n</style>\n<table border=\"1\" class=\"dataframe\">\n  <thead>\n    <tr style=\"text-align: right;\">\n      <th></th>\n      <th>A</th>\n      <th>B</th>\n      <th>C</th>\n      <th>D</th>\n      <th>E</th>\n      <th>F</th>\n      <th>G</th>\n      <th>H</th>\n      <th>I</th>\n      <th>J</th>\n      <th>K</th>\n      <th>L</th>\n    </tr>\n  </thead>\n  <tbody>\n    <tr>\n      <th>lb0</th>\n      <td>6.0</td>\n      <td>4.0</td>\n      <td>4.0</td>\n      <td>6.0</td>\n      <td>6.0</td>\n      <td>NaN</td>\n      <td>NaN</td>\n      <td>NaN</td>\n      <td>NaN</td>\n      <td>NaN</td>\n      <td>NaN</td>\n      <td>NaN</td>\n    </tr>\n    <tr>\n      <th>sc0</th>\n      <td>7.0</td>\n      <td>6.0</td>\n      <td>7.0</td>\n      <td>5.0</td>\n      <td>4.0</td>\n      <td>6.0</td>\n      <td>NaN</td>\n      <td>NaN</td>\n      <td>NaN</td>\n      <td>NaN</td>\n      <td>NaN</td>\n      <td>NaN</td>\n    </tr>\n    <tr>\n      <th>lb1</th>\n      <td>5.0</td>\n      <td>1.0</td>\n      <td>4.0</td>\n      <td>4.0</td>\n      <td>6.0</td>\n      <td>7.0</td>\n      <td>6.0</td>\n      <td>NaN</td>\n      <td>NaN</td>\n      <td>NaN</td>\n      <td>NaN</td>\n      <td>NaN</td>\n    </tr>\n    <tr>\n      <th>sc1</th>\n      <td>7.0</td>\n      <td>8.0</td>\n      <td>4.0</td>\n      <td>5.0</td>\n      <td>NaN</td>\n      <td>NaN</td>\n      <td>NaN</td>\n      <td>NaN</td>\n      <td>NaN</td>\n      <td>NaN</td>\n      <td>NaN</td>\n      <td>NaN</td>\n    </tr>\n    <tr>\n      <th>lb2</th>\n      <td>5.0</td>\n      <td>4.0</td>\n      <td>3.0</td>\n      <td>5.0</td>\n      <td>6.0</td>\n      <td>4.0</td>\n      <td>6.0</td>\n      <td>6.0</td>\n      <td>3.0</td>\n      <td>NaN</td>\n      <td>NaN</td>\n      <td>NaN</td>\n    </tr>\n  </tbody>\n</table>\n</div>"
     },
     "metadata": {},
     "output_type": "display_data"
    }
   ],
   "source": [
    "weights = group_history.iloc[:, 0].values\n",
    "\n",
    "group_sizes = pd.DataFrame([\n",
    "    [\n",
    "        np.sum([weights[i] if value == group_char else 0 for i, value in enumerate(group_history[column])])\n",
    "        for group_char in group_chars\n",
    "    ] for column in group_history.columns[1:]\n",
    "],\n",
    "columns=group_chars,\n",
    "index=[column for column in group_history.columns[1:]],\n",
    ").replace(0, np.nan)\n",
    "\n",
    "display(group_sizes.head(5))\n"
   ],
   "metadata": {
    "collapsed": false,
    "pycharm": {
     "name": "#%%\n"
    }
   }
  },
  {
   "cell_type": "markdown",
   "source": [
    "### create met_before lookup dict\n",
    "- key: group history index\n",
    "- value: list of group history indexes\n"
   ],
   "metadata": {
    "collapsed": false
   }
  },
  {
   "cell_type": "code",
   "execution_count": 302,
   "outputs": [],
   "source": [
    "all_groups = list()\n",
    "for col_name, grouping in group_history.iteritems():\n",
    "    for group_char in set(grouping):\n",
    "        if group_char in group_chars:\n",
    "            all_groups.append(group_history.index[group_history[col_name] == group_char].tolist())\n",
    "\n",
    "met_before = {i: set([i,]) for i, groups in group_history.iterrows()}\n",
    "for group in all_groups:\n",
    "    for i in group:\n",
    "        for j in group:\n",
    "            met_before[i].add(j)\n",
    "\n"
   ],
   "metadata": {
    "collapsed": false,
    "pycharm": {
     "name": "#%%\n"
    }
   }
  },
  {
   "cell_type": "markdown",
   "source": [
    "### data sanity check\n",
    "- expect 10-25 unique groups in each round\n",
    "- groups around 4-8 in size\n",
    "- max possible group memberships is 29\n",
    "- 20-50% of members never active before\n"
   ],
   "metadata": {
    "collapsed": false
   }
  },
  {
   "cell_type": "code",
   "execution_count": 303,
   "outputs": [
    {
     "data": {
      "text/plain": "                            mean  min   max\nnumber of groups        4.448276  0.0  11.0\ngroup size head count   5.906977  1.0  10.0\nmet counts             11.403226  3.0  46.0",
      "text/html": "<div>\n<style scoped>\n    .dataframe tbody tr th:only-of-type {\n        vertical-align: middle;\n    }\n\n    .dataframe tbody tr th {\n        vertical-align: top;\n    }\n\n    .dataframe thead th {\n        text-align: right;\n    }\n</style>\n<table border=\"1\" class=\"dataframe\">\n  <thead>\n    <tr style=\"text-align: right;\">\n      <th></th>\n      <th>mean</th>\n      <th>min</th>\n      <th>max</th>\n    </tr>\n  </thead>\n  <tbody>\n    <tr>\n      <th>number of groups</th>\n      <td>4.448276</td>\n      <td>0.0</td>\n      <td>11.0</td>\n    </tr>\n    <tr>\n      <th>group size head count</th>\n      <td>5.906977</td>\n      <td>1.0</td>\n      <td>10.0</td>\n    </tr>\n    <tr>\n      <th>met counts</th>\n      <td>11.403226</td>\n      <td>3.0</td>\n      <td>46.0</td>\n    </tr>\n  </tbody>\n</table>\n</div>"
     },
     "metadata": {},
     "output_type": "display_data"
    }
   ],
   "source": [
    "# filter row data\n",
    "# [list(filter(lambda x: x>0, grouping)) for i, grouping in group_sizes.iterrows()]\n",
    "\n",
    "group_counts = [np.sum(len(list(filter(lambda x: x>0, grouping)))) for i, grouping in group_sizes.iterrows()]\n",
    "\n",
    "features = pd.DataFrame(\n",
    "    [\n",
    "        [\n",
    "            # number of groups\n",
    "            np.mean(group_counts),\n",
    "            np.min(group_counts),\n",
    "            np.max(group_counts),\n",
    "        ],\n",
    "        [\n",
    "            # group size\n",
    "            np.mean([np.nanmean(group_sizes)]),\n",
    "            np.min([np.nanmin(group_sizes)]),\n",
    "            np.max([np.nanmax(group_sizes)]),\n",
    "        ],\n",
    "        [\n",
    "            # socializing\n",
    "            np.mean([len(met_set) for i, met_set in met_before.items()]),\n",
    "            np.min([len(met_set) for i, met_set in met_before.items()]),\n",
    "            np.max([len(met_set) for i, met_set in met_before.items()]),\n",
    "        ],\n",
    "    ],\n",
    "    columns=['mean', 'min', 'max'],\n",
    "    index=['number of groups', 'group size head count', 'met counts'],\n",
    ")\n",
    "\n",
    "display(features)"
   ],
   "metadata": {
    "collapsed": false,
    "pycharm": {
     "name": "#%%\n"
    }
   }
  },
  {
   "cell_type": "markdown",
   "source": [
    "# Create next SC and LB groupings\n",
    "- confirm group requirements\n"
   ],
   "metadata": {
    "collapsed": false
   }
  },
  {
   "cell_type": "code",
   "execution_count": 304,
   "outputs": [
    {
     "data": {
      "text/plain": "                  target  min  max\nsc group size          8    6    9\nsc singles count       2    0    4\nsc couple count        3    3    4\nlb group size          6    5    7\nlb singles count       2    0    3\nlb couple count        2    2    3",
      "text/html": "<div>\n<style scoped>\n    .dataframe tbody tr th:only-of-type {\n        vertical-align: middle;\n    }\n\n    .dataframe tbody tr th {\n        vertical-align: top;\n    }\n\n    .dataframe thead th {\n        text-align: right;\n    }\n</style>\n<table border=\"1\" class=\"dataframe\">\n  <thead>\n    <tr style=\"text-align: right;\">\n      <th></th>\n      <th>target</th>\n      <th>min</th>\n      <th>max</th>\n    </tr>\n  </thead>\n  <tbody>\n    <tr>\n      <th>sc group size</th>\n      <td>8</td>\n      <td>6</td>\n      <td>9</td>\n    </tr>\n    <tr>\n      <th>sc singles count</th>\n      <td>2</td>\n      <td>0</td>\n      <td>4</td>\n    </tr>\n    <tr>\n      <th>sc couple count</th>\n      <td>3</td>\n      <td>3</td>\n      <td>4</td>\n    </tr>\n    <tr>\n      <th>lb group size</th>\n      <td>6</td>\n      <td>5</td>\n      <td>7</td>\n    </tr>\n    <tr>\n      <th>lb singles count</th>\n      <td>2</td>\n      <td>0</td>\n      <td>3</td>\n    </tr>\n    <tr>\n      <th>lb couple count</th>\n      <td>2</td>\n      <td>2</td>\n      <td>3</td>\n    </tr>\n  </tbody>\n</table>\n</div>"
     },
     "metadata": {},
     "output_type": "display_data"
    }
   ],
   "source": [
    "display(pd.DataFrame([\n",
    "    sc_group_size, sc_singles_count, sc_couple_count,\n",
    "    lb_group_size, lb_singles_count, lb_couple_count,\n",
    "],\n",
    "    columns=['target', 'min', 'max'],\n",
    "    index=['sc group size', 'sc singles count', 'sc couple count',\n",
    "           'lb group size', 'lb singles count', 'lb couple count',],\n",
    "))"
   ],
   "metadata": {
    "collapsed": false,
    "pycharm": {
     "name": "#%%\n"
    }
   }
  },
  {
   "cell_type": "markdown",
   "source": [
    "- create groups\n",
    "- disperse indexes by order of met counts\n",
    "- check member requirements\n",
    "- check total size limits"
   ],
   "metadata": {
    "collapsed": false
   }
  },
  {
   "cell_type": "code",
   "execution_count": 305,
   "outputs": [],
   "source": [
    "# sort indexes by weight (couples first), then met_before count (most first_\n",
    "ordered_indexes = collections.OrderedDict(sorted(met_before.items(), key=lambda met_set: (-weights[met_set[0]], -len(met_set[1]))))\n",
    "# for i, met_set in ordered_indexes.items():\n",
    "#     print(i, len(met_set))\n",
    "\n",
    "\n"
   ],
   "metadata": {
    "collapsed": false,
    "pycharm": {
     "name": "#%%\n"
    }
   }
  },
  {
   "cell_type": "code",
   "execution_count": 314,
   "outputs": [],
   "source": [
    "indexes_list = list(ordered_indexes.keys())\n",
    "\n",
    "min_sc_groups_count = np.sum(weights) / sc_group_size.target\n",
    "min_lb_groups_count = np.sum(weights) / lb_group_size.max\n",
    "\n",
    "@dataclass\n",
    "class NewGroup:\n",
    "    members: list\n",
    "    singles: int\n",
    "    couples: int\n",
    "    size: int\n",
    "\n",
    "lb_groupings = [NewGroup([],0,0,0),]\n",
    "sc_groupings = [NewGroup([],0,0,0),]\n",
    "\n",
    "def i_can_join(asking_index: int, new_group: NewGroup, please=False):\n",
    "    if asking_index in new_group.members:\n",
    "        raise Exception(\"already a member of this group!\")\n",
    "\n",
    "    if new_group.size >= lb_group_size.max:\n",
    "        return False\n",
    "    if weights[asking_index] == 1 and new_group.singles >= lb_singles_count.max:\n",
    "        return False\n",
    "    if weights[asking_index] == 2 and new_group.couples >= lb_couple_count.max:\n",
    "        return False\n",
    "\n",
    "    if not please:\n",
    "        if len(set(new_group.members).intersection(met_before[asking_index])) > 0:\n",
    "            return False\n",
    "\n",
    "        if new_group.size >= lb_group_size.target:\n",
    "            return False\n",
    "        if weights[asking_index] == 1 and new_group.singles >= lb_singles_count.target:\n",
    "            return False\n",
    "        if weights[asking_index] == 2 and new_group.couples >= lb_couple_count.target:\n",
    "            return False\n",
    "\n",
    "    if please != \"pretty please with cherry on top\":\n",
    "        if len(set(new_group.members).intersection(met_before[asking_index])) > 1:\n",
    "            return False\n",
    "    return True\n",
    "\n",
    "placed_indexes = set()\n",
    "for index in indexes_list:\n",
    "    this_index_placed = False\n",
    "    for group_i, group in enumerate(lb_groupings):\n",
    "\n",
    "        #  fill an empty group\n",
    "        if len(group.members) == 0:\n",
    "            assert(group.size==0)\n",
    "            lb_groupings[group_i].members.append(index)\n",
    "            this_index_placed = True\n",
    "            break\n",
    "\n",
    "        # create a new group\n",
    "        if len(lb_groupings) < min_lb_groups_count:\n",
    "            lb_groupings.append(NewGroup([index,], 0, 0, 0))\n",
    "            this_index_placed = True\n",
    "            group_i = len(lb_groupings)-1\n",
    "            break\n",
    "\n",
    "        # join group if not full and unmet members\n",
    "        elif i_can_join(index, group):\n",
    "            lb_groupings[group_i].members.append(index)\n",
    "            this_index_placed = True\n",
    "            break\n",
    "\n",
    "    # uncomment to allow going beyond targets\n",
    "    # if not this_index_placed:\n",
    "    #     for group_i, group in enumerate(lb_groupings):\n",
    "    #         if i_can_join(index, group, please=True):\n",
    "    #             lb_groupings[group_i].members.append(index)\n",
    "    #             this_index_placed = True\n",
    "    #             break\n",
    "\n",
    "    if this_index_placed:\n",
    "        lb_groupings[group_i].size += weights[index]\n",
    "        if weights[index] == 1:\n",
    "            lb_groupings[group_i].singles += 1\n",
    "        else:\n",
    "            lb_groupings[group_i].couples += 1\n",
    "        placed_indexes.add(index)\n",
    "\n"
   ],
   "metadata": {
    "collapsed": false,
    "pycharm": {
     "name": "#%%\n"
    }
   }
  },
  {
   "cell_type": "markdown",
   "source": [
    "# Results when being strict with targets"
   ],
   "metadata": {
    "collapsed": false,
    "pycharm": {
     "name": "#%% md\n"
    }
   }
  },
  {
   "cell_type": "code",
   "execution_count": 315,
   "outputs": [
    {
     "name": "stdout",
     "output_type": "stream",
     "text": [
      "need at least 29 groups. and ended up creating 30 groups\n"
     ]
    },
    {
     "data": {
      "text/plain": "[NewGroup(members=[10, 57, 70, 24], singles=2, couples=2, size=6),\n NewGroup(members=[107, 97, 122, 86], singles=2, couples=2, size=6),\n NewGroup(members=[33, 54, 62, 109], singles=2, couples=2, size=6),\n NewGroup(members=[115, 80, 3, 7], singles=2, couples=2, size=6),\n NewGroup(members=[93, 21, 102, 65], singles=2, couples=2, size=6),\n NewGroup(members=[61, 46, 103, 45], singles=2, couples=2, size=6),\n NewGroup(members=[76, 77, 99, 114], singles=2, couples=2, size=6),\n NewGroup(members=[87, 79, 23, 69], singles=2, couples=2, size=6),\n NewGroup(members=[110, 83, 71, 88], singles=2, couples=2, size=6),\n NewGroup(members=[17, 105, 120, 66], singles=2, couples=2, size=6),\n NewGroup(members=[48, 123, 19, 8], singles=2, couples=2, size=6),\n NewGroup(members=[2, 20, 15, 38], singles=2, couples=2, size=6),\n NewGroup(members=[4, 82, 119, 29], singles=2, couples=2, size=6),\n NewGroup(members=[43, 39, 1, 14], singles=2, couples=2, size=6),\n NewGroup(members=[5, 27, 50, 16], singles=2, couples=2, size=6),\n NewGroup(members=[89, 30, 37, 91], singles=2, couples=2, size=6),\n NewGroup(members=[104, 60, 106, 111], singles=2, couples=2, size=6),\n NewGroup(members=[53, 100, 52, 63], singles=2, couples=2, size=6),\n NewGroup(members=[96, 116, 64, 94], singles=2, couples=2, size=6),\n NewGroup(members=[0, 68, 101, 34], singles=2, couples=2, size=6),\n NewGroup(members=[67, 42, 18, 40], singles=2, couples=2, size=6),\n NewGroup(members=[81, 108, 41, 56], singles=2, couples=2, size=6),\n NewGroup(members=[112, 85], singles=0, couples=2, size=4),\n NewGroup(members=[121, 92], singles=0, couples=2, size=4),\n NewGroup(members=[25, 9], singles=0, couples=2, size=4),\n NewGroup(members=[28, 6], singles=0, couples=2, size=4),\n NewGroup(members=[32, 11], singles=0, couples=2, size=4),\n NewGroup(members=[90, 12], singles=0, couples=2, size=4),\n NewGroup(members=[113, 13], singles=0, couples=2, size=4),\n NewGroup(members=[35, 22], singles=0, couples=2, size=4)]"
     },
     "metadata": {},
     "output_type": "display_data"
    }
   ],
   "source": [
    "print(f\"need at least {int(min_lb_groups_count)} groups. and ended up creating {len(lb_groupings)} groups\")\n",
    "display(lb_groupings)\n"
   ],
   "metadata": {
    "collapsed": false,
    "pycharm": {
     "name": "#%%\n"
    }
   }
  },
  {
   "cell_type": "markdown",
   "source": [
    "# Results when being loose with targets"
   ],
   "metadata": {
    "collapsed": false
   }
  },
  {
   "cell_type": "code",
   "execution_count": 313,
   "outputs": [
    {
     "name": "stdout",
     "output_type": "stream",
     "text": [
      "need at least 29 groups. and ended up creating 30 groups\n"
     ]
    },
    {
     "data": {
      "text/plain": "[NewGroup(members=[10, 57, 26, 66], singles=1, couples=3, size=7),\n NewGroup(members=[107, 97, 31, 8], singles=1, couples=3, size=7),\n NewGroup(members=[33, 54, 36, 15], singles=1, couples=3, size=7),\n NewGroup(members=[115, 80, 44, 38], singles=1, couples=3, size=7),\n NewGroup(members=[93, 21, 47, 119], singles=1, couples=3, size=7),\n NewGroup(members=[61, 46, 49, 1], singles=1, couples=3, size=7),\n NewGroup(members=[76, 77, 51, 14], singles=1, couples=3, size=7),\n NewGroup(members=[87, 79, 55, 29], singles=1, couples=3, size=7),\n NewGroup(members=[110, 83, 58, 50], singles=1, couples=3, size=7),\n NewGroup(members=[17, 105, 59, 16], singles=1, couples=3, size=7),\n NewGroup(members=[48, 123, 72, 37], singles=1, couples=3, size=7),\n NewGroup(members=[2, 20, 73, 91], singles=1, couples=3, size=7),\n NewGroup(members=[4, 82, 74, 106], singles=1, couples=3, size=7),\n NewGroup(members=[43, 39, 75, 111], singles=1, couples=3, size=7),\n NewGroup(members=[5, 27, 78, 52], singles=1, couples=3, size=7),\n NewGroup(members=[89, 30, 84, 63], singles=1, couples=3, size=7),\n NewGroup(members=[104, 60, 95, 64], singles=1, couples=3, size=7),\n NewGroup(members=[53, 100, 98, 94], singles=1, couples=3, size=7),\n NewGroup(members=[96, 116, 117, 101], singles=1, couples=3, size=7),\n NewGroup(members=[0, 68, 118, 34], singles=1, couples=3, size=7),\n NewGroup(members=[67, 42, 99, 103, 18], singles=3, couples=2, size=7),\n NewGroup(members=[81, 108, 3, 7, 40], singles=3, couples=2, size=7),\n NewGroup(members=[112, 85, 19, 70, 41], singles=3, couples=2, size=7),\n NewGroup(members=[121, 92, 62, 109, 56], singles=3, couples=2, size=7),\n NewGroup(members=[25, 9, 71, 88], singles=2, couples=2, size=6),\n NewGroup(members=[28, 6, 102, 65], singles=2, couples=2, size=6),\n NewGroup(members=[32, 11, 86, 69], singles=2, couples=2, size=6),\n NewGroup(members=[90, 12, 122, 23], singles=2, couples=2, size=6),\n NewGroup(members=[113, 13, 24, 114], singles=2, couples=2, size=6),\n NewGroup(members=[35, 22, 45, 120], singles=2, couples=2, size=6)]"
     },
     "metadata": {},
     "output_type": "display_data"
    }
   ],
   "source": [
    "print(f\"need at least {int(min_lb_groups_count)} groups. and ended up creating {len(lb_groupings)} groups\")\n",
    "display(lb_groupings)"
   ],
   "metadata": {
    "collapsed": false,
    "pycharm": {
     "name": "#%%\n"
    }
   }
  },
  {
   "cell_type": "code",
   "execution_count": null,
   "outputs": [],
   "source": [],
   "metadata": {
    "collapsed": false,
    "pycharm": {
     "name": "#%%\n"
    }
   }
  }
 ],
 "metadata": {
  "kernelspec": {
   "display_name": "Python 3",
   "language": "python",
   "name": "python3"
  },
  "language_info": {
   "codemirror_mode": {
    "name": "ipython",
    "version": 2
   },
   "file_extension": ".py",
   "mimetype": "text/x-python",
   "name": "python",
   "nbconvert_exporter": "python",
   "pygments_lexer": "ipython2",
   "version": "2.7.6"
  }
 },
 "nbformat": 4,
 "nbformat_minor": 0
}