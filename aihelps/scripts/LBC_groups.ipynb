{
 "cells": [
  {
   "cell_type": "markdown",
   "metadata": {
    "collapsed": true,
    "pycharm": {
     "name": "#%% md\n"
    }
   },
   "source": [
    "## LBC group management\n"
   ]
  },
  {
   "cell_type": "code",
   "execution_count": 32,
   "outputs": [],
   "source": [
    "import collections\n",
    "from dataclasses import dataclass\n",
    "import pandas as pd\n",
    "import numpy as np\n",
    "from collections import namedtuple\n",
    "group_chars = [c for c in 'ABCDEFGHIJKLMNOP']\n",
    "requirement = namedtuple('requirement', 'target min max')\n",
    "sc_group_size = requirement(8,6,9)\n",
    "sc_singles_count = requirement(2,0,4)\n",
    "sc_couple_count = requirement(3,3,4)\n",
    "lb_group_size = requirement(6,5,7)\n",
    "lb_singles_count = requirement(2,0,3)\n",
    "lb_couple_count = requirement(2,2,3)\n"
   ],
   "metadata": {
    "collapsed": false,
    "pycharm": {
     "name": "#%%\n"
    }
   }
  },
  {
   "cell_type": "markdown",
   "source": [
    "### import historical groupings\n",
    "- columns are groupings, of either type 'lb' or 'sc'\n",
    "- rows are members\n",
    "- character denotes membership in a group. same letter same group. null for no involvement"
   ],
   "metadata": {
    "collapsed": false
   }
  },
  {
   "cell_type": "code",
   "execution_count": 33,
   "outputs": [
    {
     "data": {
      "text/plain": "   size  lb0  sc0  lb1  sc1  lb2  sc2  lb3  sc3  lb4  ... sc10 lb11 sc11 lb12  \\\n0     2  NaN  NaN  NaN  NaN  NaN  NaN  NaN  NaN  NaN  ...    C  NaN  NaN  NaN   \n1     1    D  NaN  NaN  NaN  NaN  NaN  NaN  NaN  NaN  ...  NaN  NaN  NaN  NaN   \n2     2    D  NaN    F  NaN    G  NaN  NaN    B    E  ...  NaN  NaN  NaN  NaN   \n3     1    A    E    F    C    I    B    F    C    F  ...    A  NaN  NaN  NaN   \n4     2  NaN    E    E  NaN  NaN    A  NaN  NaN    C  ...  NaN  NaN  NaN  NaN   \n\n  sc12 lb13 sc13 lb14 lb_block sc_block  \n0  NaN  NaN    A  NaN        X      NaN  \n1  NaN  NaN  NaN  NaN        X        X  \n2  NaN  NaN  NaN  NaN        X        X  \n3    C  NaN    D  NaN        X      NaN  \n4  NaN  NaN    E  NaN        X        X  \n\n[5 rows x 32 columns]",
      "text/html": "<div>\n<style scoped>\n    .dataframe tbody tr th:only-of-type {\n        vertical-align: middle;\n    }\n\n    .dataframe tbody tr th {\n        vertical-align: top;\n    }\n\n    .dataframe thead th {\n        text-align: right;\n    }\n</style>\n<table border=\"1\" class=\"dataframe\">\n  <thead>\n    <tr style=\"text-align: right;\">\n      <th></th>\n      <th>size</th>\n      <th>lb0</th>\n      <th>sc0</th>\n      <th>lb1</th>\n      <th>sc1</th>\n      <th>lb2</th>\n      <th>sc2</th>\n      <th>lb3</th>\n      <th>sc3</th>\n      <th>lb4</th>\n      <th>...</th>\n      <th>sc10</th>\n      <th>lb11</th>\n      <th>sc11</th>\n      <th>lb12</th>\n      <th>sc12</th>\n      <th>lb13</th>\n      <th>sc13</th>\n      <th>lb14</th>\n      <th>lb_block</th>\n      <th>sc_block</th>\n    </tr>\n  </thead>\n  <tbody>\n    <tr>\n      <th>0</th>\n      <td>2</td>\n      <td>NaN</td>\n      <td>NaN</td>\n      <td>NaN</td>\n      <td>NaN</td>\n      <td>NaN</td>\n      <td>NaN</td>\n      <td>NaN</td>\n      <td>NaN</td>\n      <td>NaN</td>\n      <td>...</td>\n      <td>C</td>\n      <td>NaN</td>\n      <td>NaN</td>\n      <td>NaN</td>\n      <td>NaN</td>\n      <td>NaN</td>\n      <td>A</td>\n      <td>NaN</td>\n      <td>X</td>\n      <td>NaN</td>\n    </tr>\n    <tr>\n      <th>1</th>\n      <td>1</td>\n      <td>D</td>\n      <td>NaN</td>\n      <td>NaN</td>\n      <td>NaN</td>\n      <td>NaN</td>\n      <td>NaN</td>\n      <td>NaN</td>\n      <td>NaN</td>\n      <td>NaN</td>\n      <td>...</td>\n      <td>NaN</td>\n      <td>NaN</td>\n      <td>NaN</td>\n      <td>NaN</td>\n      <td>NaN</td>\n      <td>NaN</td>\n      <td>NaN</td>\n      <td>NaN</td>\n      <td>X</td>\n      <td>X</td>\n    </tr>\n    <tr>\n      <th>2</th>\n      <td>2</td>\n      <td>D</td>\n      <td>NaN</td>\n      <td>F</td>\n      <td>NaN</td>\n      <td>G</td>\n      <td>NaN</td>\n      <td>NaN</td>\n      <td>B</td>\n      <td>E</td>\n      <td>...</td>\n      <td>NaN</td>\n      <td>NaN</td>\n      <td>NaN</td>\n      <td>NaN</td>\n      <td>NaN</td>\n      <td>NaN</td>\n      <td>NaN</td>\n      <td>NaN</td>\n      <td>X</td>\n      <td>X</td>\n    </tr>\n    <tr>\n      <th>3</th>\n      <td>1</td>\n      <td>A</td>\n      <td>E</td>\n      <td>F</td>\n      <td>C</td>\n      <td>I</td>\n      <td>B</td>\n      <td>F</td>\n      <td>C</td>\n      <td>F</td>\n      <td>...</td>\n      <td>A</td>\n      <td>NaN</td>\n      <td>NaN</td>\n      <td>NaN</td>\n      <td>C</td>\n      <td>NaN</td>\n      <td>D</td>\n      <td>NaN</td>\n      <td>X</td>\n      <td>NaN</td>\n    </tr>\n    <tr>\n      <th>4</th>\n      <td>2</td>\n      <td>NaN</td>\n      <td>E</td>\n      <td>E</td>\n      <td>NaN</td>\n      <td>NaN</td>\n      <td>A</td>\n      <td>NaN</td>\n      <td>NaN</td>\n      <td>C</td>\n      <td>...</td>\n      <td>NaN</td>\n      <td>NaN</td>\n      <td>NaN</td>\n      <td>NaN</td>\n      <td>NaN</td>\n      <td>NaN</td>\n      <td>E</td>\n      <td>NaN</td>\n      <td>X</td>\n      <td>X</td>\n    </tr>\n  </tbody>\n</table>\n<p>5 rows × 32 columns</p>\n</div>"
     },
     "metadata": {},
     "output_type": "display_data"
    }
   ],
   "source": [
    "column_names = ['size'] + list(f'{\"sc\" if i%2 else \"lb\"}{i//2}'\n",
    "                             for i in range(29)\n",
    "                             ) + ['lb_block', 'sc_block']\n",
    "group_history = pd.read_csv(\"LBC_group_history_2.csv\", names=column_names,header=0)\n",
    "\n",
    "display(group_history.head(5))"
   ],
   "metadata": {
    "collapsed": false,
    "pycharm": {
     "name": "#%%\n"
    }
   }
  },
  {
   "cell_type": "markdown",
   "source": [
    "### measure group sizes\n",
    "- get total group sizes using weights from size column\n"
   ],
   "metadata": {
    "collapsed": false
   }
  },
  {
   "cell_type": "code",
   "execution_count": 34,
   "outputs": [
    {
     "data": {
      "text/plain": "        A    B     C    D    E    F    G    H    I    J    K   L   M   N   O  \\\nlb12  NaN  NaN   NaN  NaN  NaN  NaN  NaN  NaN  NaN  NaN  NaN NaN NaN NaN NaN   \nsc12  8.0  6.0   6.0  NaN  NaN  NaN  NaN  NaN  NaN  NaN  NaN NaN NaN NaN NaN   \nlb13  4.0  6.0   7.0  NaN  NaN  NaN  NaN  NaN  NaN  NaN  NaN NaN NaN NaN NaN   \nsc13  8.0  8.0  10.0  8.0  8.0  NaN  NaN  NaN  NaN  NaN  NaN NaN NaN NaN NaN   \nlb14  9.0  6.0   4.0  6.0  6.0  6.0  6.0  6.0  7.0  6.0  6.0 NaN NaN NaN NaN   \n\n       P  \nlb12 NaN  \nsc12 NaN  \nlb13 NaN  \nsc13 NaN  \nlb14 NaN  ",
      "text/html": "<div>\n<style scoped>\n    .dataframe tbody tr th:only-of-type {\n        vertical-align: middle;\n    }\n\n    .dataframe tbody tr th {\n        vertical-align: top;\n    }\n\n    .dataframe thead th {\n        text-align: right;\n    }\n</style>\n<table border=\"1\" class=\"dataframe\">\n  <thead>\n    <tr style=\"text-align: right;\">\n      <th></th>\n      <th>A</th>\n      <th>B</th>\n      <th>C</th>\n      <th>D</th>\n      <th>E</th>\n      <th>F</th>\n      <th>G</th>\n      <th>H</th>\n      <th>I</th>\n      <th>J</th>\n      <th>K</th>\n      <th>L</th>\n      <th>M</th>\n      <th>N</th>\n      <th>O</th>\n      <th>P</th>\n    </tr>\n  </thead>\n  <tbody>\n    <tr>\n      <th>lb12</th>\n      <td>NaN</td>\n      <td>NaN</td>\n      <td>NaN</td>\n      <td>NaN</td>\n      <td>NaN</td>\n      <td>NaN</td>\n      <td>NaN</td>\n      <td>NaN</td>\n      <td>NaN</td>\n      <td>NaN</td>\n      <td>NaN</td>\n      <td>NaN</td>\n      <td>NaN</td>\n      <td>NaN</td>\n      <td>NaN</td>\n      <td>NaN</td>\n    </tr>\n    <tr>\n      <th>sc12</th>\n      <td>8.0</td>\n      <td>6.0</td>\n      <td>6.0</td>\n      <td>NaN</td>\n      <td>NaN</td>\n      <td>NaN</td>\n      <td>NaN</td>\n      <td>NaN</td>\n      <td>NaN</td>\n      <td>NaN</td>\n      <td>NaN</td>\n      <td>NaN</td>\n      <td>NaN</td>\n      <td>NaN</td>\n      <td>NaN</td>\n      <td>NaN</td>\n    </tr>\n    <tr>\n      <th>lb13</th>\n      <td>4.0</td>\n      <td>6.0</td>\n      <td>7.0</td>\n      <td>NaN</td>\n      <td>NaN</td>\n      <td>NaN</td>\n      <td>NaN</td>\n      <td>NaN</td>\n      <td>NaN</td>\n      <td>NaN</td>\n      <td>NaN</td>\n      <td>NaN</td>\n      <td>NaN</td>\n      <td>NaN</td>\n      <td>NaN</td>\n      <td>NaN</td>\n    </tr>\n    <tr>\n      <th>sc13</th>\n      <td>8.0</td>\n      <td>8.0</td>\n      <td>10.0</td>\n      <td>8.0</td>\n      <td>8.0</td>\n      <td>NaN</td>\n      <td>NaN</td>\n      <td>NaN</td>\n      <td>NaN</td>\n      <td>NaN</td>\n      <td>NaN</td>\n      <td>NaN</td>\n      <td>NaN</td>\n      <td>NaN</td>\n      <td>NaN</td>\n      <td>NaN</td>\n    </tr>\n    <tr>\n      <th>lb14</th>\n      <td>9.0</td>\n      <td>6.0</td>\n      <td>4.0</td>\n      <td>6.0</td>\n      <td>6.0</td>\n      <td>6.0</td>\n      <td>6.0</td>\n      <td>6.0</td>\n      <td>7.0</td>\n      <td>6.0</td>\n      <td>6.0</td>\n      <td>NaN</td>\n      <td>NaN</td>\n      <td>NaN</td>\n      <td>NaN</td>\n      <td>NaN</td>\n    </tr>\n  </tbody>\n</table>\n</div>"
     },
     "metadata": {},
     "output_type": "display_data"
    }
   ],
   "source": [
    "weights = group_history.iloc[:, 0].values\n",
    "\n",
    "group_sizes = pd.DataFrame([\n",
    "    [\n",
    "        np.sum([weights[i] if value == group_char else 0 for i, value in enumerate(group_history[column])])\n",
    "        for group_char in group_chars\n",
    "    ] for column in group_history.columns[1:-2]\n",
    "],\n",
    "columns=group_chars,\n",
    "index=[column for column in group_history.columns[1:-2]],\n",
    ").replace(0, np.nan)\n",
    "\n",
    "display(group_sizes.tail(5))\n"
   ],
   "metadata": {
    "collapsed": false,
    "pycharm": {
     "name": "#%%\n"
    }
   }
  },
  {
   "cell_type": "markdown",
   "source": [
    "### create met_before lookup dict\n",
    "- key: group history index\n",
    "- value: list of group history indexes\n"
   ],
   "metadata": {
    "collapsed": false
   }
  },
  {
   "cell_type": "code",
   "execution_count": 35,
   "outputs": [],
   "source": [
    "all_groups = list()\n",
    "for col_name, grouping in group_history.iteritems():\n",
    "    for group_char in set(grouping):\n",
    "        if group_char in group_chars:\n",
    "            all_groups.append(group_history.index[group_history[col_name] == group_char].tolist())\n",
    "\n",
    "met_before = {i: set([i,]) for i, groups in group_history.iterrows()}\n",
    "for group in all_groups:\n",
    "    for i in group:\n",
    "        for j in group:\n",
    "            met_before[i].add(j)\n",
    "\n"
   ],
   "metadata": {
    "collapsed": false,
    "pycharm": {
     "name": "#%%\n"
    }
   }
  },
  {
   "cell_type": "markdown",
   "source": [
    "### data sanity check\n",
    "- expect 10-25 unique groups in each round\n",
    "- groups around 4-8 in size\n",
    "- max possible group memberships is 29\n",
    "- 20-50% of members never active before\n"
   ],
   "metadata": {
    "collapsed": false
   }
  },
  {
   "cell_type": "code",
   "execution_count": 36,
   "outputs": [
    {
     "data": {
      "text/plain": "                            mean  min   max\nnumber of groups        4.448276  0.0  11.0\ngroup size head count   5.906977  1.0  10.0\nmet counts             11.000000  1.0  46.0",
      "text/html": "<div>\n<style scoped>\n    .dataframe tbody tr th:only-of-type {\n        vertical-align: middle;\n    }\n\n    .dataframe tbody tr th {\n        vertical-align: top;\n    }\n\n    .dataframe thead th {\n        text-align: right;\n    }\n</style>\n<table border=\"1\" class=\"dataframe\">\n  <thead>\n    <tr style=\"text-align: right;\">\n      <th></th>\n      <th>mean</th>\n      <th>min</th>\n      <th>max</th>\n    </tr>\n  </thead>\n  <tbody>\n    <tr>\n      <th>number of groups</th>\n      <td>4.448276</td>\n      <td>0.0</td>\n      <td>11.0</td>\n    </tr>\n    <tr>\n      <th>group size head count</th>\n      <td>5.906977</td>\n      <td>1.0</td>\n      <td>10.0</td>\n    </tr>\n    <tr>\n      <th>met counts</th>\n      <td>11.000000</td>\n      <td>1.0</td>\n      <td>46.0</td>\n    </tr>\n  </tbody>\n</table>\n</div>"
     },
     "metadata": {},
     "output_type": "display_data"
    }
   ],
   "source": [
    "# filter row data\n",
    "# [list(filter(lambda x: x>0, grouping)) for i, grouping in group_sizes.iterrows()]\n",
    "\n",
    "group_counts = [np.sum(len(list(filter(lambda x: x>0, grouping)))) for i, grouping in group_sizes.iterrows()]\n",
    "\n",
    "features = pd.DataFrame(\n",
    "    [\n",
    "        [\n",
    "            # number of groups\n",
    "            np.mean(group_counts),\n",
    "            np.min(group_counts),\n",
    "            np.max(group_counts),\n",
    "        ],\n",
    "        [\n",
    "            # group size\n",
    "            np.mean([np.nanmean(group_sizes)]),\n",
    "            np.min([np.nanmin(group_sizes)]),\n",
    "            np.max([np.nanmax(group_sizes)]),\n",
    "        ],\n",
    "        [\n",
    "            # socializing\n",
    "            np.mean([len(met_set) for i, met_set in met_before.items()]),\n",
    "            np.min([len(met_set) for i, met_set in met_before.items()]),\n",
    "            np.max([len(met_set) for i, met_set in met_before.items()]),\n",
    "        ],\n",
    "    ],\n",
    "    columns=['mean', 'min', 'max'],\n",
    "    index=['number of groups', 'group size head count', 'met counts'],\n",
    ")\n",
    "\n",
    "display(features)"
   ],
   "metadata": {
    "collapsed": false,
    "pycharm": {
     "name": "#%%\n"
    }
   }
  },
  {
   "cell_type": "markdown",
   "source": [
    "# Create next SC and LB groupings\n",
    "- confirm group requirements\n"
   ],
   "metadata": {
    "collapsed": false
   }
  },
  {
   "cell_type": "code",
   "execution_count": 37,
   "outputs": [
    {
     "data": {
      "text/plain": "                  target  min  max\nsc group size          8    6    9\nsc singles count       2    0    4\nsc couple count        3    3    4\nlb group size          6    5    7\nlb singles count       2    0    3\nlb couple count        2    2    3",
      "text/html": "<div>\n<style scoped>\n    .dataframe tbody tr th:only-of-type {\n        vertical-align: middle;\n    }\n\n    .dataframe tbody tr th {\n        vertical-align: top;\n    }\n\n    .dataframe thead th {\n        text-align: right;\n    }\n</style>\n<table border=\"1\" class=\"dataframe\">\n  <thead>\n    <tr style=\"text-align: right;\">\n      <th></th>\n      <th>target</th>\n      <th>min</th>\n      <th>max</th>\n    </tr>\n  </thead>\n  <tbody>\n    <tr>\n      <th>sc group size</th>\n      <td>8</td>\n      <td>6</td>\n      <td>9</td>\n    </tr>\n    <tr>\n      <th>sc singles count</th>\n      <td>2</td>\n      <td>0</td>\n      <td>4</td>\n    </tr>\n    <tr>\n      <th>sc couple count</th>\n      <td>3</td>\n      <td>3</td>\n      <td>4</td>\n    </tr>\n    <tr>\n      <th>lb group size</th>\n      <td>6</td>\n      <td>5</td>\n      <td>7</td>\n    </tr>\n    <tr>\n      <th>lb singles count</th>\n      <td>2</td>\n      <td>0</td>\n      <td>3</td>\n    </tr>\n    <tr>\n      <th>lb couple count</th>\n      <td>2</td>\n      <td>2</td>\n      <td>3</td>\n    </tr>\n  </tbody>\n</table>\n</div>"
     },
     "metadata": {},
     "output_type": "display_data"
    }
   ],
   "source": [
    "display(pd.DataFrame([\n",
    "    sc_group_size, sc_singles_count, sc_couple_count,\n",
    "    lb_group_size, lb_singles_count, lb_couple_count,\n",
    "],\n",
    "    columns=['target', 'min', 'max'],\n",
    "    index=['sc group size', 'sc singles count', 'sc couple count',\n",
    "           'lb group size', 'lb singles count', 'lb couple count',],\n",
    "))"
   ],
   "metadata": {
    "collapsed": false,
    "pycharm": {
     "name": "#%%\n"
    }
   }
  },
  {
   "cell_type": "markdown",
   "source": [
    "- create groups\n",
    "- disperse indexes by order of met counts\n",
    "- check member requirements\n",
    "- check total size limits"
   ],
   "metadata": {
    "collapsed": false
   }
  },
  {
   "cell_type": "code",
   "execution_count": 38,
   "outputs": [],
   "source": [
    "# sort indexes by weight (couples first), then met_before count (most first_\n",
    "ordered_indexes = collections.OrderedDict(sorted(met_before.items(), key=lambda met_set: (-weights[met_set[0]], -len(met_set[1]))))\n",
    "# for i, met_set in ordered_indexes.items():\n",
    "#     print(f\"{i} has met {met_set}\")"
   ],
   "metadata": {
    "collapsed": false,
    "pycharm": {
     "name": "#%%\n"
    }
   }
  },
  {
   "cell_type": "code",
   "execution_count": 39,
   "outputs": [
    {
     "name": "stdout",
     "output_type": "stream",
     "text": [
      "index 80 has met with {79} and will see them again\n",
      "index 80 has met with {67} and will see them again\n",
      "index 80 has met with {107} and will see them again\n",
      "index 80 has met with {107} and will see them again\n"
     ]
    }
   ],
   "source": [
    "indexes_list = list(ordered_indexes.keys())\n",
    "\n",
    "min_groups_count = {\n",
    "    \"sc\": 7,  # np.sum(weights) / sc_group_size.target\n",
    "    \"lb\": 10,  # np.sum(weights) / lb_group_size.max\n",
    "}\n",
    "\n",
    "@dataclass\n",
    "class NewGroup:\n",
    "    members: list\n",
    "    singles: int\n",
    "    couples: int\n",
    "    size: int\n",
    "    kind: str\n",
    "\n",
    "def i_can_join(asking_index: int, new_group: NewGroup, please=False):\n",
    "    if asking_index in new_group.members:\n",
    "        raise Exception(\"already a member of this group!\")\n",
    "\n",
    "    if new_group.size >= (lb_group_size.max if new_group.kind==\"lb\" else sc_group_size.max):\n",
    "        return False\n",
    "\n",
    "    if weights[asking_index] == 1 and \\\n",
    "            new_group.singles >= (lb_singles_count.max if new_group.kind==\"lb\" else sc_singles_count.max):\n",
    "        return False\n",
    "\n",
    "    if weights[asking_index] == 2 and \\\n",
    "            new_group.couples >= (lb_couple_count.max if new_group.kind==\"lb\" else sc_couple_count.max):\n",
    "        return False\n",
    "\n",
    "    if please != \"pretty please\":\n",
    "        if len(set(new_group.members).intersection(met_before[asking_index])) > 2:\n",
    "            return False\n",
    "\n",
    "    if not please:\n",
    "        if len(set(new_group.members).intersection(met_before[asking_index])) > 0:\n",
    "            return False\n",
    "\n",
    "        if new_group.size >= (lb_group_size.target if new_group.kind==\"lb\" else sc_group_size.target):\n",
    "            return False\n",
    "        if weights[asking_index] == 1 and new_group.singles >= (lb_singles_count.target if new_group.kind==\"lb\" else sc_singles_count.target):\n",
    "            return False\n",
    "        if weights[asking_index] == 2 and new_group.couples >= (lb_couple_count.target if new_group.kind==\"lb\" else sc_couple_count.target):\n",
    "            return False\n",
    "\n",
    "    if len(set(new_group.members).intersection(met_before[asking_index])) > 0:\n",
    "        those_meeting_the_met = set(new_group.members).intersection(met_before[asking_index])\n",
    "        print(f'index {i} has met with {those_meeting_the_met} and will see them again')\n",
    "\n",
    "    return True\n",
    "\n",
    "\n",
    "def populate_grouping(grouping, group_kind):\n",
    "    placed_indexes = set()\n",
    "    displaced_indexes = set()\n",
    "    for index in indexes_list:\n",
    "        this_index_placed = False\n",
    "\n",
    "        if \"X\" == group_history[f\"{group_kind}_block\"].values[index]:\n",
    "            # print(f'index {index} found {group_history[f\"{group_kind}_block\"].values[index]}')\n",
    "            continue\n",
    "\n",
    "        for group_i, group in enumerate(grouping):\n",
    "\n",
    "            #  fill an empty group\n",
    "            if len(group.members) == 0:\n",
    "                assert(group.size==0)\n",
    "                grouping[group_i].members.append(index)\n",
    "                this_index_placed = True\n",
    "                break\n",
    "\n",
    "            # join group if not full and unmet members\n",
    "            if i_can_join(index, group):\n",
    "                grouping[group_i].members.append(index)\n",
    "                this_index_placed = True\n",
    "                break\n",
    "\n",
    "            # create a new group\n",
    "            if len(grouping) < min_groups_count[group_kind]:\n",
    "                grouping.append(NewGroup([index,], 0, 0, 0, group_kind))\n",
    "                this_index_placed = True\n",
    "                group_i = len(grouping)-1\n",
    "                break\n",
    "\n",
    "        # uncomment to allow going beyond targets\n",
    "        if not this_index_placed:\n",
    "            for group_i, group in enumerate(grouping):\n",
    "                if i_can_join(index, group, please=True):  # can set please=\"pretty please\"\n",
    "                    grouping[group_i].members.append(index)\n",
    "                    this_index_placed = True\n",
    "                    break\n",
    "\n",
    "        if this_index_placed:\n",
    "            grouping[group_i].size += weights[index]\n",
    "            if weights[index] == 1:\n",
    "                grouping[group_i].singles += 1\n",
    "            else:\n",
    "                grouping[group_i].couples += 1\n",
    "            placed_indexes.add(index)\n",
    "        else:\n",
    "            displaced_indexes.add(index)\n",
    "\n",
    "    return grouping, displaced_indexes\n",
    "\n",
    "lb_groupings = [NewGroup([],0,0,0,\"lb\"),]\n",
    "lb_groupings, lb_unfit_list = populate_grouping(lb_groupings, \"lb\")\n",
    "\n",
    "sc_groupings = [NewGroup([],0,0,0,\"sc\"),]\n",
    "sc_groupings, sc_unfit_list = populate_grouping(sc_groupings, \"sc\")"
   ],
   "metadata": {
    "collapsed": false,
    "pycharm": {
     "name": "#%%\n"
    }
   }
  },
  {
   "cell_type": "markdown",
   "source": [
    "# Results when being strict with targets"
   ],
   "metadata": {
    "collapsed": false,
    "pycharm": {
     "name": "#%% md\n"
    }
   }
  },
  {
   "cell_type": "code",
   "execution_count": 40,
   "outputs": [
    {
     "name": "stdout",
     "output_type": "stream",
     "text": [
      "LB needed at least 10 groups. and ended up creating 10 groups\n"
     ]
    },
    {
     "data": {
      "text/plain": "[NewGroup(members=[107, 67, 58, 106], singles=1, couples=3, size=7, kind='lb'),\n NewGroup(members=[33, 79, 59], singles=0, couples=3, size=6, kind='lb'),\n NewGroup(members=[61, 105, 73], singles=0, couples=3, size=6, kind='lb'),\n NewGroup(members=[76, 20, 74], singles=0, couples=3, size=6, kind='lb'),\n NewGroup(members=[110, 82, 95], singles=0, couples=3, size=6, kind='lb'),\n NewGroup(members=[53, 30, 124], singles=0, couples=3, size=6, kind='lb'),\n NewGroup(members=[112, 116, 127], singles=0, couples=3, size=6, kind='lb'),\n NewGroup(members=[90, 108, 99, 94], singles=2, couples=2, size=6, kind='lb'),\n NewGroup(members=[54, 6, 70, 126], singles=2, couples=2, size=6, kind='lb'),\n NewGroup(members=[80, 51, 45, 15], singles=2, couples=2, size=6, kind='lb')]"
     },
     "metadata": {},
     "output_type": "display_data"
    },
    {
     "name": "stdout",
     "output_type": "stream",
     "text": [
      "Everyone was placed!\n"
     ]
    }
   ],
   "source": [
    "print(f\"LB needed at least {int(min_groups_count['lb'])} groups. and ended up creating {len(lb_groupings)} groups\")\n",
    "display(lb_groupings)\n",
    "if lb_unfit_list:\n",
    "    print(f\"{len(lb_unfit_list)} leftover could not be placed\")\n",
    "else:\n",
    "    print(\"Everyone was placed!\")"
   ],
   "metadata": {
    "collapsed": false,
    "pycharm": {
     "name": "#%%\n"
    }
   }
  },
  {
   "cell_type": "code",
   "execution_count": 41,
   "outputs": [
    {
     "name": "stdout",
     "output_type": "stream",
     "text": [
      "SC needed at least 7 groups. and ended up creating 7 groups\n"
     ]
    },
    {
     "data": {
      "text/plain": "[NewGroup(members=[107, 80, 123, 19, 45], singles=2, couples=3, size=8, kind='sc'),\n NewGroup(members=[93, 113, 79, 8, 125], singles=2, couples=3, size=8, kind='sc'),\n NewGroup(members=[76, 39, 82, 99, 64], singles=2, couples=3, size=8, kind='sc'),\n NewGroup(members=[110, 116, 108, 70], singles=1, couples=3, size=7, kind='sc'),\n NewGroup(members=[89, 30, 42, 15], singles=1, couples=3, size=7, kind='sc'),\n NewGroup(members=[96, 85, 92, 109, 50], singles=2, couples=3, size=8, kind='sc'),\n NewGroup(members=[0, 127, 128, 3], singles=1, couples=3, size=7, kind='sc')]"
     },
     "metadata": {},
     "output_type": "display_data"
    },
    {
     "name": "stdout",
     "output_type": "stream",
     "text": [
      "Everyone was placed!\n"
     ]
    }
   ],
   "source": [
    "print(f\"SC needed at least {int(min_groups_count['sc'])} groups. and ended up creating {len(sc_groupings)} groups\")\n",
    "display(sc_groupings)\n",
    "if sc_unfit_list:\n",
    "    print(f\"{len(sc_unfit_list)} leftover could not be placed\")\n",
    "else:\n",
    "    print(\"Everyone was placed!\")"
   ],
   "metadata": {
    "collapsed": false,
    "pycharm": {
     "name": "#%%\n"
    }
   }
  },
  {
   "cell_type": "markdown",
   "source": [
    "# Results when being loose with targets"
   ],
   "metadata": {
    "collapsed": false
   }
  },
  {
   "cell_type": "code",
   "execution_count": 42,
   "outputs": [
    {
     "name": "stdout",
     "output_type": "stream",
     "text": [
      "LB needed at least 10 groups. and ended up creating 10 groups\n"
     ]
    },
    {
     "data": {
      "text/plain": "[NewGroup(members=[107, 67, 58, 106], singles=1, couples=3, size=7, kind='lb'),\n NewGroup(members=[33, 79, 59], singles=0, couples=3, size=6, kind='lb'),\n NewGroup(members=[61, 105, 73], singles=0, couples=3, size=6, kind='lb'),\n NewGroup(members=[76, 20, 74], singles=0, couples=3, size=6, kind='lb'),\n NewGroup(members=[110, 82, 95], singles=0, couples=3, size=6, kind='lb'),\n NewGroup(members=[53, 30, 124], singles=0, couples=3, size=6, kind='lb'),\n NewGroup(members=[112, 116, 127], singles=0, couples=3, size=6, kind='lb'),\n NewGroup(members=[90, 108, 99, 94], singles=2, couples=2, size=6, kind='lb'),\n NewGroup(members=[54, 6, 70, 126], singles=2, couples=2, size=6, kind='lb'),\n NewGroup(members=[80, 51, 45, 15], singles=2, couples=2, size=6, kind='lb')]"
     },
     "metadata": {},
     "output_type": "display_data"
    },
    {
     "name": "stdout",
     "output_type": "stream",
     "text": [
      "Everyone was placed!\n"
     ]
    }
   ],
   "source": [
    "print(f\"LB needed at least {int(min_groups_count['lb'])} groups. and ended up creating {len(lb_groupings)} groups\")\n",
    "display(lb_groupings)\n",
    "if lb_unfit_list:\n",
    "    print(f\"{len(lb_unfit_list)} leftover could not be placed\")\n",
    "else:\n",
    "    print(\"Everyone was placed!\")"
   ],
   "metadata": {
    "collapsed": false,
    "pycharm": {
     "name": "#%%\n"
    }
   }
  },
  {
   "cell_type": "code",
   "execution_count": 43,
   "outputs": [
    {
     "name": "stdout",
     "output_type": "stream",
     "text": [
      "SC needed at least 7 groups. and ended up creating 7 groups\n"
     ]
    },
    {
     "data": {
      "text/plain": "[NewGroup(members=[107, 80, 123, 19, 45], singles=2, couples=3, size=8, kind='sc'),\n NewGroup(members=[93, 113, 79, 8, 125], singles=2, couples=3, size=8, kind='sc'),\n NewGroup(members=[76, 39, 82, 99, 64], singles=2, couples=3, size=8, kind='sc'),\n NewGroup(members=[110, 116, 108, 70], singles=1, couples=3, size=7, kind='sc'),\n NewGroup(members=[89, 30, 42, 15], singles=1, couples=3, size=7, kind='sc'),\n NewGroup(members=[96, 85, 92, 109, 50], singles=2, couples=3, size=8, kind='sc'),\n NewGroup(members=[0, 127, 128, 3], singles=1, couples=3, size=7, kind='sc')]"
     },
     "metadata": {},
     "output_type": "display_data"
    },
    {
     "name": "stdout",
     "output_type": "stream",
     "text": [
      "Everyone was placed!\n"
     ]
    }
   ],
   "source": [
    "print(f\"SC needed at least {int(min_groups_count['sc'])} groups. and ended up creating {len(sc_groupings)} groups\")\n",
    "display(sc_groupings)\n",
    "if sc_unfit_list:\n",
    "    print(f\"{len(sc_unfit_list)} leftover could not be placed\")\n",
    "else:\n",
    "    print(\"Everyone was placed!\")"
   ],
   "metadata": {
    "collapsed": false,
    "pycharm": {
     "name": "#%%\n"
    }
   }
  },
  {
   "cell_type": "code",
   "execution_count": 45,
   "outputs": [
    {
     "name": "stdout",
     "output_type": "stream",
     "text": [
      "all the people Jean met before\n",
      "[3, 4, 17, 25, 39, 43, 49, 57, 62, 70, 71, 87, 93, 96, 99, 100, 122]\n"
     ]
    }
   ],
   "source": [
    "jean = 4\n",
    "print(\"all the people Jean met before\")\n",
    "print(sorted(list(met_before[jean])))"
   ],
   "metadata": {
    "collapsed": false,
    "pycharm": {
     "name": "#%%\n"
    }
   }
  },
  {
   "cell_type": "code",
   "execution_count": 44,
   "outputs": [],
   "source": [],
   "metadata": {
    "collapsed": false,
    "pycharm": {
     "name": "#%%\n"
    }
   }
  }
 ],
 "metadata": {
  "kernelspec": {
   "display_name": "Python 3",
   "language": "python",
   "name": "python3"
  },
  "language_info": {
   "codemirror_mode": {
    "name": "ipython",
    "version": 2
   },
   "file_extension": ".py",
   "mimetype": "text/x-python",
   "name": "python",
   "nbconvert_exporter": "python",
   "pygments_lexer": "ipython2",
   "version": "2.7.6"
  }
 },
 "nbformat": 4,
 "nbformat_minor": 0
}