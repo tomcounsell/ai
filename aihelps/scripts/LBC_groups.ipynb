{
 "cells": [
  {
   "cell_type": "markdown",
   "metadata": {
    "collapsed": true,
    "pycharm": {
     "name": "#%% md\n"
    }
   },
   "source": [
    "## LBC group management\n"
   ]
  },
  {
   "cell_type": "code",
   "execution_count": 205,
   "outputs": [],
   "source": [
    "import pandas as pd\n",
    "import numpy as np\n",
    "from collections import namedtuple\n",
    "\n",
    "requirement = namedtuple('requirement', 'target min max')\n",
    "sc_group_size = requirement(8,6,9)\n",
    "sc_singles_count = requirement(2,0,4)\n",
    "sc_couple_count = requirement(3,3,4)\n",
    "lb_group_size = requirement(6,5,7)\n",
    "lb_singles_count = requirement(2,0,3)\n",
    "lb_couple_count = requirement(3,2,3)\n",
    "group_chars = [c for c in 'ABCDEFGHIJKL']\n"
   ],
   "metadata": {
    "collapsed": false,
    "pycharm": {
     "name": "#%%\n"
    }
   }
  },
  {
   "cell_type": "markdown",
   "source": [
    "### import historical groupings\n",
    "- columns are groupings, of either type 'lb' or 'sc'\n",
    "- rows are members\n",
    "- character denotes membership in a group. same letter same group. null for no involvement"
   ],
   "metadata": {
    "collapsed": false
   }
  },
  {
   "cell_type": "code",
   "execution_count": 206,
   "outputs": [
    {
     "data": {
      "text/plain": "   size  lb0  sc0  lb1  sc1  lb2  sc2  lb3  sc3  lb4  ...  sc9 lb10 sc10 lb11  \\\n0     2  NaN  NaN  NaN  NaN  NaN  NaN  NaN  NaN  NaN  ...    B  NaN    C  NaN   \n1     1    D  NaN  NaN  NaN  NaN  NaN  NaN  NaN  NaN  ...  NaN  NaN  NaN  NaN   \n2     2    D  NaN    F  NaN    G  NaN  NaN    B    E  ...  NaN  NaN  NaN  NaN   \n3     1    A    E    F    C    I    B    F    C    F  ...    A  NaN    A  NaN   \n4     2  NaN    E    E  NaN  NaN    A  NaN  NaN    C  ...  NaN  NaN  NaN  NaN   \n\n  sc11 lb12 sc12 lb13 sc13 lb14  \n0  NaN  NaN  NaN  NaN    A  NaN  \n1  NaN  NaN  NaN  NaN  NaN  NaN  \n2  NaN  NaN  NaN  NaN  NaN  NaN  \n3  NaN  NaN    C  NaN    D  NaN  \n4  NaN  NaN  NaN  NaN    E  NaN  \n\n[5 rows x 30 columns]",
      "text/html": "<div>\n<style scoped>\n    .dataframe tbody tr th:only-of-type {\n        vertical-align: middle;\n    }\n\n    .dataframe tbody tr th {\n        vertical-align: top;\n    }\n\n    .dataframe thead th {\n        text-align: right;\n    }\n</style>\n<table border=\"1\" class=\"dataframe\">\n  <thead>\n    <tr style=\"text-align: right;\">\n      <th></th>\n      <th>size</th>\n      <th>lb0</th>\n      <th>sc0</th>\n      <th>lb1</th>\n      <th>sc1</th>\n      <th>lb2</th>\n      <th>sc2</th>\n      <th>lb3</th>\n      <th>sc3</th>\n      <th>lb4</th>\n      <th>...</th>\n      <th>sc9</th>\n      <th>lb10</th>\n      <th>sc10</th>\n      <th>lb11</th>\n      <th>sc11</th>\n      <th>lb12</th>\n      <th>sc12</th>\n      <th>lb13</th>\n      <th>sc13</th>\n      <th>lb14</th>\n    </tr>\n  </thead>\n  <tbody>\n    <tr>\n      <th>0</th>\n      <td>2</td>\n      <td>NaN</td>\n      <td>NaN</td>\n      <td>NaN</td>\n      <td>NaN</td>\n      <td>NaN</td>\n      <td>NaN</td>\n      <td>NaN</td>\n      <td>NaN</td>\n      <td>NaN</td>\n      <td>...</td>\n      <td>B</td>\n      <td>NaN</td>\n      <td>C</td>\n      <td>NaN</td>\n      <td>NaN</td>\n      <td>NaN</td>\n      <td>NaN</td>\n      <td>NaN</td>\n      <td>A</td>\n      <td>NaN</td>\n    </tr>\n    <tr>\n      <th>1</th>\n      <td>1</td>\n      <td>D</td>\n      <td>NaN</td>\n      <td>NaN</td>\n      <td>NaN</td>\n      <td>NaN</td>\n      <td>NaN</td>\n      <td>NaN</td>\n      <td>NaN</td>\n      <td>NaN</td>\n      <td>...</td>\n      <td>NaN</td>\n      <td>NaN</td>\n      <td>NaN</td>\n      <td>NaN</td>\n      <td>NaN</td>\n      <td>NaN</td>\n      <td>NaN</td>\n      <td>NaN</td>\n      <td>NaN</td>\n      <td>NaN</td>\n    </tr>\n    <tr>\n      <th>2</th>\n      <td>2</td>\n      <td>D</td>\n      <td>NaN</td>\n      <td>F</td>\n      <td>NaN</td>\n      <td>G</td>\n      <td>NaN</td>\n      <td>NaN</td>\n      <td>B</td>\n      <td>E</td>\n      <td>...</td>\n      <td>NaN</td>\n      <td>NaN</td>\n      <td>NaN</td>\n      <td>NaN</td>\n      <td>NaN</td>\n      <td>NaN</td>\n      <td>NaN</td>\n      <td>NaN</td>\n      <td>NaN</td>\n      <td>NaN</td>\n    </tr>\n    <tr>\n      <th>3</th>\n      <td>1</td>\n      <td>A</td>\n      <td>E</td>\n      <td>F</td>\n      <td>C</td>\n      <td>I</td>\n      <td>B</td>\n      <td>F</td>\n      <td>C</td>\n      <td>F</td>\n      <td>...</td>\n      <td>A</td>\n      <td>NaN</td>\n      <td>A</td>\n      <td>NaN</td>\n      <td>NaN</td>\n      <td>NaN</td>\n      <td>C</td>\n      <td>NaN</td>\n      <td>D</td>\n      <td>NaN</td>\n    </tr>\n    <tr>\n      <th>4</th>\n      <td>2</td>\n      <td>NaN</td>\n      <td>E</td>\n      <td>E</td>\n      <td>NaN</td>\n      <td>NaN</td>\n      <td>A</td>\n      <td>NaN</td>\n      <td>NaN</td>\n      <td>C</td>\n      <td>...</td>\n      <td>NaN</td>\n      <td>NaN</td>\n      <td>NaN</td>\n      <td>NaN</td>\n      <td>NaN</td>\n      <td>NaN</td>\n      <td>NaN</td>\n      <td>NaN</td>\n      <td>E</td>\n      <td>NaN</td>\n    </tr>\n  </tbody>\n</table>\n<p>5 rows × 30 columns</p>\n</div>"
     },
     "metadata": {},
     "output_type": "display_data"
    }
   ],
   "source": [
    "column_names = ['size'] + list(f'{\"sc\" if i%2 else \"lb\"}{i//2}'\n",
    "                             for i in range(29)\n",
    "                             )\n",
    "group_history = pd.read_csv(\"LBC_group_history.csv\", names=column_names,header=0)\n",
    "\n",
    "display(group_history.head(5))"
   ],
   "metadata": {
    "collapsed": false,
    "pycharm": {
     "name": "#%%\n"
    }
   }
  },
  {
   "cell_type": "markdown",
   "source": [
    "### measure group sizes\n",
    "- get total group sizes using weights from size column\n"
   ],
   "metadata": {
    "collapsed": false
   }
  },
  {
   "cell_type": "code",
   "execution_count": 207,
   "outputs": [
    {
     "data": {
      "text/plain": "       A    B    C    D    E    F    G    H    I   J   K   L\nlb0  6.0  4.0  4.0  6.0  6.0  NaN  NaN  NaN  NaN NaN NaN NaN\nsc0  7.0  6.0  7.0  5.0  4.0  6.0  NaN  NaN  NaN NaN NaN NaN\nlb1  5.0  1.0  4.0  4.0  6.0  7.0  6.0  NaN  NaN NaN NaN NaN\nsc1  7.0  8.0  4.0  5.0  NaN  NaN  NaN  NaN  NaN NaN NaN NaN\nlb2  5.0  4.0  3.0  5.0  6.0  4.0  6.0  6.0  3.0 NaN NaN NaN",
      "text/html": "<div>\n<style scoped>\n    .dataframe tbody tr th:only-of-type {\n        vertical-align: middle;\n    }\n\n    .dataframe tbody tr th {\n        vertical-align: top;\n    }\n\n    .dataframe thead th {\n        text-align: right;\n    }\n</style>\n<table border=\"1\" class=\"dataframe\">\n  <thead>\n    <tr style=\"text-align: right;\">\n      <th></th>\n      <th>A</th>\n      <th>B</th>\n      <th>C</th>\n      <th>D</th>\n      <th>E</th>\n      <th>F</th>\n      <th>G</th>\n      <th>H</th>\n      <th>I</th>\n      <th>J</th>\n      <th>K</th>\n      <th>L</th>\n    </tr>\n  </thead>\n  <tbody>\n    <tr>\n      <th>lb0</th>\n      <td>6.0</td>\n      <td>4.0</td>\n      <td>4.0</td>\n      <td>6.0</td>\n      <td>6.0</td>\n      <td>NaN</td>\n      <td>NaN</td>\n      <td>NaN</td>\n      <td>NaN</td>\n      <td>NaN</td>\n      <td>NaN</td>\n      <td>NaN</td>\n    </tr>\n    <tr>\n      <th>sc0</th>\n      <td>7.0</td>\n      <td>6.0</td>\n      <td>7.0</td>\n      <td>5.0</td>\n      <td>4.0</td>\n      <td>6.0</td>\n      <td>NaN</td>\n      <td>NaN</td>\n      <td>NaN</td>\n      <td>NaN</td>\n      <td>NaN</td>\n      <td>NaN</td>\n    </tr>\n    <tr>\n      <th>lb1</th>\n      <td>5.0</td>\n      <td>1.0</td>\n      <td>4.0</td>\n      <td>4.0</td>\n      <td>6.0</td>\n      <td>7.0</td>\n      <td>6.0</td>\n      <td>NaN</td>\n      <td>NaN</td>\n      <td>NaN</td>\n      <td>NaN</td>\n      <td>NaN</td>\n    </tr>\n    <tr>\n      <th>sc1</th>\n      <td>7.0</td>\n      <td>8.0</td>\n      <td>4.0</td>\n      <td>5.0</td>\n      <td>NaN</td>\n      <td>NaN</td>\n      <td>NaN</td>\n      <td>NaN</td>\n      <td>NaN</td>\n      <td>NaN</td>\n      <td>NaN</td>\n      <td>NaN</td>\n    </tr>\n    <tr>\n      <th>lb2</th>\n      <td>5.0</td>\n      <td>4.0</td>\n      <td>3.0</td>\n      <td>5.0</td>\n      <td>6.0</td>\n      <td>4.0</td>\n      <td>6.0</td>\n      <td>6.0</td>\n      <td>3.0</td>\n      <td>NaN</td>\n      <td>NaN</td>\n      <td>NaN</td>\n    </tr>\n  </tbody>\n</table>\n</div>"
     },
     "metadata": {},
     "output_type": "display_data"
    }
   ],
   "source": [
    "weights = group_history.iloc[:, 0].values\n",
    "\n",
    "group_sizes = pd.DataFrame([\n",
    "    [\n",
    "        np.sum([weights[i] if value == group_char else 0 for i, value in enumerate(group_history[column])])\n",
    "        for group_char in group_chars\n",
    "    ] for column in group_history.columns[1:]\n",
    "],\n",
    "columns=group_chars,\n",
    "index=[column for column in group_history.columns[1:]],\n",
    ").replace(0, np.nan)\n",
    "\n",
    "display(group_sizes.head(5))\n"
   ],
   "metadata": {
    "collapsed": false,
    "pycharm": {
     "name": "#%%\n"
    }
   }
  },
  {
   "cell_type": "markdown",
   "source": [
    "### create met_before lookup dict\n",
    "- key: group history index\n",
    "- value: list of group history indexes\n"
   ],
   "metadata": {
    "collapsed": false
   }
  },
  {
   "cell_type": "code",
   "execution_count": 208,
   "outputs": [],
   "source": [
    "all_groups = list()\n",
    "for col_name, grouping in group_history.iteritems():\n",
    "    for group_char in set(grouping):\n",
    "        if group_char in group_chars:\n",
    "            all_groups.append(group_history.index[group_history[col_name] == group_char].tolist())\n",
    "\n",
    "met_before = {i: set([i,]) for i, groups in group_history.iterrows()}\n",
    "for group in all_groups:\n",
    "    for i in group:\n",
    "        for j in group:\n",
    "            met_before[i].add(j)\n",
    "\n"
   ],
   "metadata": {
    "collapsed": false,
    "pycharm": {
     "name": "#%%\n"
    }
   }
  },
  {
   "cell_type": "markdown",
   "source": [
    "### data sanity check\n",
    "- expect 10-25 unique groups in each round\n",
    "- groups around 4-8 in size\n",
    "- max possible group memberships is 29\n",
    "- 20-50% of members never active before\n"
   ],
   "metadata": {
    "collapsed": false
   }
  },
  {
   "cell_type": "code",
   "execution_count": 212,
   "outputs": [
    {
     "data": {
      "text/plain": "                            mean  min   max\nnumber of groups        4.448276  0.0  11.0\ngroup size head count   5.906977  1.0  10.0\nmet counts             11.403226  3.0  46.0",
      "text/html": "<div>\n<style scoped>\n    .dataframe tbody tr th:only-of-type {\n        vertical-align: middle;\n    }\n\n    .dataframe tbody tr th {\n        vertical-align: top;\n    }\n\n    .dataframe thead th {\n        text-align: right;\n    }\n</style>\n<table border=\"1\" class=\"dataframe\">\n  <thead>\n    <tr style=\"text-align: right;\">\n      <th></th>\n      <th>mean</th>\n      <th>min</th>\n      <th>max</th>\n    </tr>\n  </thead>\n  <tbody>\n    <tr>\n      <th>number of groups</th>\n      <td>4.448276</td>\n      <td>0.0</td>\n      <td>11.0</td>\n    </tr>\n    <tr>\n      <th>group size head count</th>\n      <td>5.906977</td>\n      <td>1.0</td>\n      <td>10.0</td>\n    </tr>\n    <tr>\n      <th>met counts</th>\n      <td>11.403226</td>\n      <td>3.0</td>\n      <td>46.0</td>\n    </tr>\n  </tbody>\n</table>\n</div>"
     },
     "metadata": {},
     "output_type": "display_data"
    }
   ],
   "source": [
    "# filter row data\n",
    "# [list(filter(lambda x: x>0, grouping)) for i, grouping in group_sizes.iterrows()]\n",
    "\n",
    "group_counts = [np.sum(len(list(filter(lambda x: x>0, grouping)))) for i, grouping in group_sizes.iterrows()]\n",
    "\n",
    "features = pd.DataFrame(\n",
    "    [\n",
    "        [\n",
    "            # number of groups\n",
    "            np.mean(group_counts),\n",
    "            np.min(group_counts),\n",
    "            np.max(group_counts),\n",
    "        ],\n",
    "        [\n",
    "            # group size\n",
    "            np.mean([np.nanmean(group_sizes)]),\n",
    "            np.min([np.nanmin(group_sizes)]),\n",
    "            np.max([np.nanmax(group_sizes)]),\n",
    "        ],\n",
    "        [\n",
    "            # socializing\n",
    "            np.mean([len(met_set) for i, met_set in met_before.items()]),\n",
    "            np.min([len(met_set) for i, met_set in met_before.items()]),\n",
    "            np.max([len(met_set) for i, met_set in met_before.items()]),\n",
    "        ],\n",
    "    ],\n",
    "    columns=['mean', 'min', 'max'],\n",
    "    index=['number of groups', 'group size head count', 'met counts'],\n",
    ")\n",
    "\n",
    "display(features)"
   ],
   "metadata": {
    "collapsed": false,
    "pycharm": {
     "name": "#%%\n"
    }
   }
  },
  {
   "cell_type": "code",
   "execution_count": 209,
   "outputs": [],
   "source": [],
   "metadata": {
    "collapsed": false,
    "pycharm": {
     "name": "#%%\n"
    }
   }
  }
 ],
 "metadata": {
  "kernelspec": {
   "display_name": "Python 3",
   "language": "python",
   "name": "python3"
  },
  "language_info": {
   "codemirror_mode": {
    "name": "ipython",
    "version": 2
   },
   "file_extension": ".py",
   "mimetype": "text/x-python",
   "name": "python",
   "nbconvert_exporter": "python",
   "pygments_lexer": "ipython2",
   "version": "2.7.6"
  }
 },
 "nbformat": 4,
 "nbformat_minor": 0
}